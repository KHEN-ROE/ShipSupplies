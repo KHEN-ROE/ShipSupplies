{
 "cells": [
  {
   "cell_type": "code",
   "execution_count": 85,
   "metadata": {},
   "outputs": [],
   "source": [
    "import pandas as pd\n",
    "data = pd.read_csv('D:/ShipSupplies/DA/data/raw.csv')"
   ]
  },
  {
   "cell_type": "code",
   "execution_count": 86,
   "metadata": {},
   "outputs": [
    {
     "name": "stdout",
     "output_type": "stream",
     "text": [
      "<class 'pandas.core.frame.DataFrame'>\n",
      "RangeIndex: 24667 entries, 0 to 24666\n",
      "Data columns (total 27 columns):\n",
      " #   Column       Non-Null Count  Dtype  \n",
      "---  ------       --------------  -----  \n",
      " 0   Assembly     24664 non-null  object \n",
      " 1   Control No.  15465 non-null  object \n",
      " 2   D/T          22335 non-null  object \n",
      " 3   Machinery    24664 non-null  object \n",
      " 4   No.          24664 non-null  float64\n",
      " 5   Part No.1    24640 non-null  object \n",
      " 6   Subject      24642 non-null  object \n",
      " 7   견적           24200 non-null  object \n",
      " 8   견적단가         24664 non-null  float64\n",
      " 9   견적수량         24546 non-null  float64\n",
      " 10  견적화폐         24546 non-null  object \n",
      " 11  발주           24546 non-null  object \n",
      " 12  발주금액         24549 non-null  float64\n",
      " 13  발주번호         24664 non-null  object \n",
      " 14  발주수량         24546 non-null  float64\n",
      " 15  발주처          24546 non-null  object \n",
      " 16  선박입고수량       24664 non-null  float64\n",
      " 17  입고창고         21345 non-null  object \n",
      " 18  창고입고         21345 non-null  object \n",
      " 19  창고입고수량       24664 non-null  float64\n",
      " 20  창고출고         19277 non-null  object \n",
      " 21  창고출고수량       24664 non-null  float64\n",
      " 22  청구량          24546 non-null  float64\n",
      " 23  청구서번호        24664 non-null  object \n",
      " 24  청구품목         24664 non-null  object \n",
      " 25  출고선박         19277 non-null  object \n",
      " 26  출고운반선        19277 non-null  object \n",
      "dtypes: float64(9), object(18)\n",
      "memory usage: 5.1+ MB\n"
     ]
    }
   ],
   "source": [
    "data.info()"
   ]
  },
  {
   "cell_type": "code",
   "execution_count": 87,
   "metadata": {},
   "outputs": [
    {
     "data": {
      "text/plain": [
       "Assembly       24664\n",
       "Control No.    15465\n",
       "D/T            22335\n",
       "Machinery      24664\n",
       "No.            24664\n",
       "Part No.1      24640\n",
       "Subject        24642\n",
       "견적             24200\n",
       "견적단가           24664\n",
       "견적수량           24546\n",
       "견적화폐           24546\n",
       "발주             24546\n",
       "발주금액           24549\n",
       "발주번호           24664\n",
       "발주수량           24546\n",
       "발주처            24546\n",
       "선박입고수량         24664\n",
       "입고창고           21345\n",
       "창고입고           21345\n",
       "창고입고수량         24664\n",
       "창고출고           19277\n",
       "창고출고수량         24664\n",
       "청구량            24546\n",
       "청구서번호          24664\n",
       "청구품목           24664\n",
       "출고선박           19277\n",
       "출고운반선          19277\n",
       "dtype: int64"
      ]
     },
     "execution_count": 87,
     "metadata": {},
     "output_type": "execute_result"
    }
   ],
   "source": [
    "data.count()"
   ]
  },
  {
   "cell_type": "code",
   "execution_count": 88,
   "metadata": {},
   "outputs": [],
   "source": [
    "df = data.fillna(0)"
   ]
  },
  {
   "cell_type": "code",
   "execution_count": 89,
   "metadata": {},
   "outputs": [
    {
     "data": {
      "text/html": [
       "<div>\n",
       "<style scoped>\n",
       "    .dataframe tbody tr th:only-of-type {\n",
       "        vertical-align: middle;\n",
       "    }\n",
       "\n",
       "    .dataframe tbody tr th {\n",
       "        vertical-align: top;\n",
       "    }\n",
       "\n",
       "    .dataframe thead th {\n",
       "        text-align: right;\n",
       "    }\n",
       "</style>\n",
       "<table border=\"1\" class=\"dataframe\">\n",
       "  <thead>\n",
       "    <tr style=\"text-align: right;\">\n",
       "      <th></th>\n",
       "      <th>Assembly</th>\n",
       "      <th>Control No.</th>\n",
       "      <th>D/T</th>\n",
       "      <th>Machinery</th>\n",
       "      <th>No.</th>\n",
       "      <th>Part No.1</th>\n",
       "      <th>Subject</th>\n",
       "      <th>견적</th>\n",
       "      <th>견적단가</th>\n",
       "      <th>견적수량</th>\n",
       "      <th>...</th>\n",
       "      <th>입고창고</th>\n",
       "      <th>창고입고</th>\n",
       "      <th>창고입고수량</th>\n",
       "      <th>창고출고</th>\n",
       "      <th>창고출고수량</th>\n",
       "      <th>청구량</th>\n",
       "      <th>청구서번호</th>\n",
       "      <th>청구품목</th>\n",
       "      <th>출고선박</th>\n",
       "      <th>출고운반선</th>\n",
       "    </tr>\n",
       "  </thead>\n",
       "  <tbody>\n",
       "    <tr>\n",
       "      <th>0</th>\n",
       "      <td>BLOCK</td>\n",
       "      <td>19-04-077</td>\n",
       "      <td>56</td>\n",
       "      <td>CARGO BOOM VANG BLOCK (STBD 하)</td>\n",
       "      <td>1.0</td>\n",
       "      <td>C15S10BS</td>\n",
       "      <td>COK-F-DECK-190104-01</td>\n",
       "      <td>2019-01-11</td>\n",
       "      <td>1022.76</td>\n",
       "      <td>2.0</td>\n",
       "      <td>...</td>\n",
       "      <td>BW</td>\n",
       "      <td>2019-05-03</td>\n",
       "      <td>2.0</td>\n",
       "      <td>2019-05-20</td>\n",
       "      <td>2.0</td>\n",
       "      <td>2.0</td>\n",
       "      <td>COK-BS-DSP-1901004</td>\n",
       "      <td>MCKISSICK CONSTRUCTION BLOCKS (WIRE SIZE : 5/8\")</td>\n",
       "      <td>COK</td>\n",
       "      <td>ONENESS</td>\n",
       "    </tr>\n",
       "    <tr>\n",
       "      <th>1</th>\n",
       "      <td>BLOCK</td>\n",
       "      <td>19-04-064</td>\n",
       "      <td>56</td>\n",
       "      <td>SPANISH BOOM VANG BLOCK (PORT 상)</td>\n",
       "      <td>2.0</td>\n",
       "      <td>C15D10BS</td>\n",
       "      <td>COK-F-DECK-190104-01</td>\n",
       "      <td>2019-01-11</td>\n",
       "      <td>1713.96</td>\n",
       "      <td>1.0</td>\n",
       "      <td>...</td>\n",
       "      <td>BW</td>\n",
       "      <td>2019-04-18</td>\n",
       "      <td>1.0</td>\n",
       "      <td>2019-05-20</td>\n",
       "      <td>1.0</td>\n",
       "      <td>1.0</td>\n",
       "      <td>COK-BS-DSP-1901004</td>\n",
       "      <td>MCKISSICK CONSTRUCTION BLOCKS (WIRE SIZE : 5/8\")</td>\n",
       "      <td>COK</td>\n",
       "      <td>ONENESS편 탁송</td>\n",
       "    </tr>\n",
       "    <tr>\n",
       "      <th>2</th>\n",
       "      <td>TOW BLOCK</td>\n",
       "      <td>19-04-077</td>\n",
       "      <td>56</td>\n",
       "      <td>PURSE BLOCK</td>\n",
       "      <td>3.0</td>\n",
       "      <td>WESTEC 20TON TOW BLOCK</td>\n",
       "      <td>COK-F-DECK-190104-01</td>\n",
       "      <td>2019-01-11</td>\n",
       "      <td>5843.75</td>\n",
       "      <td>1.0</td>\n",
       "      <td>...</td>\n",
       "      <td>BW</td>\n",
       "      <td>2019-05-03</td>\n",
       "      <td>1.0</td>\n",
       "      <td>2019-05-20</td>\n",
       "      <td>1.0</td>\n",
       "      <td>1.0</td>\n",
       "      <td>COK-BS-DSP-1901004</td>\n",
       "      <td>WESTEC 20TON TOW BLOCK</td>\n",
       "      <td>COK</td>\n",
       "      <td>ONENESS</td>\n",
       "    </tr>\n",
       "    <tr>\n",
       "      <th>3</th>\n",
       "      <td>POWER PACK AS</td>\n",
       "      <td>0</td>\n",
       "      <td>60</td>\n",
       "      <td>MAIN ENGINE</td>\n",
       "      <td>1.0</td>\n",
       "      <td>40028340</td>\n",
       "      <td>폰페이 재고정정</td>\n",
       "      <td>2019-04-01</td>\n",
       "      <td>4000.00</td>\n",
       "      <td>8.0</td>\n",
       "      <td>...</td>\n",
       "      <td>PN</td>\n",
       "      <td>2019-04-01</td>\n",
       "      <td>8.0</td>\n",
       "      <td>2019-08-01</td>\n",
       "      <td>1.0</td>\n",
       "      <td>8.0</td>\n",
       "      <td>COK-BS-DSP-1905036</td>\n",
       "      <td>GE POWER PACK FORK - E7(B)</td>\n",
       "      <td>DEO</td>\n",
       "      <td>HANARO</td>\n",
       "    </tr>\n",
       "    <tr>\n",
       "      <th>4</th>\n",
       "      <td>POWER PACK AS</td>\n",
       "      <td>0</td>\n",
       "      <td>60</td>\n",
       "      <td>MAIN ENGINE</td>\n",
       "      <td>2.0</td>\n",
       "      <td>40028340</td>\n",
       "      <td>폰페이 재고정정</td>\n",
       "      <td>2019-04-01</td>\n",
       "      <td>4000.00</td>\n",
       "      <td>8.0</td>\n",
       "      <td>...</td>\n",
       "      <td>PN</td>\n",
       "      <td>2019-04-01</td>\n",
       "      <td>8.0</td>\n",
       "      <td>2019-08-29</td>\n",
       "      <td>7.0</td>\n",
       "      <td>8.0</td>\n",
       "      <td>COK-BS-DSP-1905036</td>\n",
       "      <td>GE POWER PACK FORK - E7(B)</td>\n",
       "      <td>ELS</td>\n",
       "      <td>SL ARCHI</td>\n",
       "    </tr>\n",
       "  </tbody>\n",
       "</table>\n",
       "<p>5 rows × 27 columns</p>\n",
       "</div>"
      ],
      "text/plain": [
       "        Assembly Control No. D/T                         Machinery  No.   \n",
       "0          BLOCK   19-04-077  56    CARGO BOOM VANG BLOCK (STBD 하)  1.0  \\\n",
       "1          BLOCK   19-04-064  56  SPANISH BOOM VANG BLOCK (PORT 상)  2.0   \n",
       "2      TOW BLOCK   19-04-077  56                       PURSE BLOCK  3.0   \n",
       "3  POWER PACK AS           0  60                       MAIN ENGINE  1.0   \n",
       "4  POWER PACK AS           0  60                       MAIN ENGINE  2.0   \n",
       "\n",
       "                Part No.1               Subject          견적     견적단가  견적수량   \n",
       "0                C15S10BS  COK-F-DECK-190104-01  2019-01-11  1022.76   2.0  \\\n",
       "1                C15D10BS  COK-F-DECK-190104-01  2019-01-11  1713.96   1.0   \n",
       "2  WESTEC 20TON TOW BLOCK  COK-F-DECK-190104-01  2019-01-11  5843.75   1.0   \n",
       "3                40028340              폰페이 재고정정  2019-04-01  4000.00   8.0   \n",
       "4                40028340              폰페이 재고정정  2019-04-01  4000.00   8.0   \n",
       "\n",
       "   ... 입고창고        창고입고  창고입고수량        창고출고  창고출고수량  청구량               청구서번호   \n",
       "0  ...   BW  2019-05-03     2.0  2019-05-20     2.0  2.0  COK-BS-DSP-1901004  \\\n",
       "1  ...   BW  2019-04-18     1.0  2019-05-20     1.0  1.0  COK-BS-DSP-1901004   \n",
       "2  ...   BW  2019-05-03     1.0  2019-05-20     1.0  1.0  COK-BS-DSP-1901004   \n",
       "3  ...   PN  2019-04-01     8.0  2019-08-01     1.0  8.0  COK-BS-DSP-1905036   \n",
       "4  ...   PN  2019-04-01     8.0  2019-08-29     7.0  8.0  COK-BS-DSP-1905036   \n",
       "\n",
       "                                               청구품목 출고선박        출고운반선  \n",
       "0  MCKISSICK CONSTRUCTION BLOCKS (WIRE SIZE : 5/8\")  COK      ONENESS  \n",
       "1  MCKISSICK CONSTRUCTION BLOCKS (WIRE SIZE : 5/8\")  COK  ONENESS편 탁송  \n",
       "2                            WESTEC 20TON TOW BLOCK  COK      ONENESS  \n",
       "3                        GE POWER PACK FORK - E7(B)  DEO       HANARO  \n",
       "4                        GE POWER PACK FORK - E7(B)  ELS     SL ARCHI  \n",
       "\n",
       "[5 rows x 27 columns]"
      ]
     },
     "execution_count": 89,
     "metadata": {},
     "output_type": "execute_result"
    }
   ],
   "source": [
    "# head\n",
    "df.head()"
   ]
  },
  {
   "cell_type": "code",
   "execution_count": 90,
   "metadata": {},
   "outputs": [
    {
     "name": "stdout",
     "output_type": "stream",
     "text": [
      "<class 'pandas.core.frame.DataFrame'>\n",
      "RangeIndex: 24667 entries, 0 to 24666\n",
      "Data columns (total 27 columns):\n",
      " #   Column       Non-Null Count  Dtype  \n",
      "---  ------       --------------  -----  \n",
      " 0   Assembly     24667 non-null  object \n",
      " 1   Control No.  24667 non-null  object \n",
      " 2   D/T          24667 non-null  object \n",
      " 3   Machinery    24667 non-null  object \n",
      " 4   No.          24667 non-null  float64\n",
      " 5   Part No.1    24667 non-null  object \n",
      " 6   Subject      24667 non-null  object \n",
      " 7   견적           24667 non-null  object \n",
      " 8   견적단가         24667 non-null  float64\n",
      " 9   견적수량         24667 non-null  float64\n",
      " 10  견적화폐         24667 non-null  object \n",
      " 11  발주           24667 non-null  object \n",
      " 12  발주금액         24667 non-null  float64\n",
      " 13  발주번호         24667 non-null  object \n",
      " 14  발주수량         24667 non-null  float64\n",
      " 15  발주처          24667 non-null  object \n",
      " 16  선박입고수량       24667 non-null  float64\n",
      " 17  입고창고         24667 non-null  object \n",
      " 18  창고입고         24667 non-null  object \n",
      " 19  창고입고수량       24667 non-null  float64\n",
      " 20  창고출고         24667 non-null  object \n",
      " 21  창고출고수량       24667 non-null  float64\n",
      " 22  청구량          24667 non-null  float64\n",
      " 23  청구서번호        24667 non-null  object \n",
      " 24  청구품목         24667 non-null  object \n",
      " 25  출고선박         24667 non-null  object \n",
      " 26  출고운반선        24667 non-null  object \n",
      "dtypes: float64(9), object(18)\n",
      "memory usage: 5.1+ MB\n"
     ]
    }
   ],
   "source": [
    "# column정보\n",
    "df.info()"
   ]
  },
  {
   "cell_type": "code",
   "execution_count": 91,
   "metadata": {},
   "outputs": [
    {
     "data": {
      "text/plain": [
       "666009"
      ]
     },
     "execution_count": 91,
     "metadata": {},
     "output_type": "execute_result"
    }
   ],
   "source": [
    "df.isna().count().sum()"
   ]
  },
  {
   "cell_type": "code",
   "execution_count": 95,
   "metadata": {},
   "outputs": [
    {
     "data": {
      "text/plain": [
       "Index([    0,     1,     2,     3,     4,     5,     6,     7,     8,     9,\n",
       "       ...\n",
       "       24638, 24639, 24640, 24641, 24642, 24643, 24644, 24645, 24646, 24647],\n",
       "      dtype='int64', length=20942)"
      ]
     },
     "execution_count": 95,
     "metadata": {},
     "output_type": "execute_result"
    }
   ],
   "source": [
    "import numpy as np\n",
    "temp = df[df['견적'] != 0]\n",
    "temp = temp[temp['창고입고'] != 0]\n",
    "idx = temp.index\n",
    "idx\n",
    "# temp\n",
    "# df = df.drop(idx,axis=0, inplace=True)\n",
    "# df1\n",
    "# df1['견적'] = pd.to_datetime(df1['견적'])\n",
    "# df1['창고입고'] = pd.to_datetime(df1['창고입고'])\n"
   ]
  },
  {
   "cell_type": "code",
   "execution_count": 96,
   "metadata": {},
   "outputs": [],
   "source": [
    "df1 = df.drop(idx, inplace=True)"
   ]
  },
  {
   "cell_type": "code",
   "execution_count": 97,
   "metadata": {},
   "outputs": [],
   "source": [
    "df1"
   ]
  },
  {
   "cell_type": "code",
   "execution_count": 81,
   "metadata": {},
   "outputs": [
    {
     "ename": "TypeError",
     "evalue": "'NoneType' object is not subscriptable",
     "output_type": "error",
     "traceback": [
      "\u001b[1;31m---------------------------------------------------------------------------\u001b[0m",
      "\u001b[1;31mTypeError\u001b[0m                                 Traceback (most recent call last)",
      "Cell \u001b[1;32mIn[81], line 1\u001b[0m\n\u001b[1;32m----> 1\u001b[0m df2 \u001b[39m=\u001b[39m df[df[\u001b[39m'\u001b[39;49m\u001b[39m발주\u001b[39;49m\u001b[39m'\u001b[39;49m] \u001b[39m!=\u001b[39m \u001b[39m0\u001b[39m]\n\u001b[0;32m      2\u001b[0m df2 \u001b[39m=\u001b[39m df2[df2[\u001b[39m'\u001b[39m\u001b[39m창고입고\u001b[39m\u001b[39m'\u001b[39m] \u001b[39m!=\u001b[39m \u001b[39m0\u001b[39m]\n\u001b[0;32m      3\u001b[0m df2\n",
      "\u001b[1;31mTypeError\u001b[0m: 'NoneType' object is not subscriptable"
     ]
    }
   ],
   "source": [
    "df2 = df[df['발주'] != 0]\n",
    "df2 = df2[df2['창고입고'] != 0]\n",
    "df2"
   ]
  },
  {
   "cell_type": "code",
   "execution_count": 53,
   "metadata": {},
   "outputs": [
    {
     "data": {
      "text/plain": [
       "Assembly       285\n",
       "Control No.    285\n",
       "D/T            285\n",
       "Machinery      285\n",
       "No.            285\n",
       "Part No.1      285\n",
       "Subject        285\n",
       "견적             285\n",
       "견적단가           285\n",
       "견적수량           285\n",
       "견적화폐           285\n",
       "발주             285\n",
       "발주금액           285\n",
       "발주번호           285\n",
       "발주수량           285\n",
       "발주처            285\n",
       "선박입고수량         285\n",
       "입고창고           285\n",
       "창고입고           285\n",
       "창고입고수량         285\n",
       "창고출고           285\n",
       "창고출고수량         285\n",
       "청구량            285\n",
       "청구서번호          285\n",
       "청구품목           285\n",
       "출고선박           285\n",
       "출고운반선          285\n",
       "dtype: int64"
      ]
     },
     "execution_count": 53,
     "metadata": {},
     "output_type": "execute_result"
    }
   ],
   "source": [
    "df2.count()"
   ]
  },
  {
   "cell_type": "code",
   "execution_count": 54,
   "metadata": {},
   "outputs": [
    {
     "name": "stdout",
     "output_type": "stream",
     "text": [
      "<class 'pandas.core.frame.DataFrame'>\n",
      "Index: 3725 entries, 235 to 24666\n",
      "Data columns (total 27 columns):\n",
      " #   Column       Non-Null Count  Dtype  \n",
      "---  ------       --------------  -----  \n",
      " 0   Assembly     3725 non-null   object \n",
      " 1   Control No.  3725 non-null   object \n",
      " 2   D/T          3725 non-null   object \n",
      " 3   Machinery    3725 non-null   object \n",
      " 4   No.          3725 non-null   float64\n",
      " 5   Part No.1    3725 non-null   object \n",
      " 6   Subject      3725 non-null   object \n",
      " 7   견적           3725 non-null   object \n",
      " 8   견적단가         3725 non-null   float64\n",
      " 9   견적수량         3725 non-null   float64\n",
      " 10  견적화폐         3725 non-null   object \n",
      " 11  발주           3725 non-null   object \n",
      " 12  발주금액         3725 non-null   float64\n",
      " 13  발주번호         3725 non-null   object \n",
      " 14  발주수량         3725 non-null   float64\n",
      " 15  발주처          3725 non-null   object \n",
      " 16  선박입고수량       3725 non-null   float64\n",
      " 17  입고창고         3725 non-null   object \n",
      " 18  창고입고         3725 non-null   object \n",
      " 19  창고입고수량       3725 non-null   float64\n",
      " 20  창고출고         3725 non-null   object \n",
      " 21  창고출고수량       3725 non-null   float64\n",
      " 22  청구량          3725 non-null   float64\n",
      " 23  청구서번호        3725 non-null   object \n",
      " 24  청구품목         3725 non-null   object \n",
      " 25  출고선박         3725 non-null   object \n",
      " 26  출고운반선        3725 non-null   object \n",
      "dtypes: float64(9), object(18)\n",
      "memory usage: 814.8+ KB\n"
     ]
    }
   ],
   "source": [
    "# column정보\n",
    "df.info()"
   ]
  },
  {
   "cell_type": "code",
   "execution_count": 55,
   "metadata": {},
   "outputs": [],
   "source": [
    "# df['견적'] = pd.to_datetime(df['견적'])"
   ]
  }
 ],
 "metadata": {
  "kernelspec": {
   "display_name": "venv",
   "language": "python",
   "name": "python3"
  },
  "language_info": {
   "codemirror_mode": {
    "name": "ipython",
    "version": 3
   },
   "file_extension": ".py",
   "mimetype": "text/x-python",
   "name": "python",
   "nbconvert_exporter": "python",
   "pygments_lexer": "ipython3",
   "version": "3.10.10"
  },
  "orig_nbformat": 4
 },
 "nbformat": 4,
 "nbformat_minor": 2
}
