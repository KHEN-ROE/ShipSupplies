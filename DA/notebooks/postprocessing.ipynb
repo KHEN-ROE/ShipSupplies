{
 "cells": [
  {
   "cell_type": "markdown",
   "metadata": {
    "id": "TCtsCC8eRzlO"
   },
   "source": [
    "데이터 불러오기"
   ]
  },
  {
   "cell_type": "code",
   "execution_count": 3,
   "metadata": {
    "id": "lbqhjaes_BLH"
   },
   "outputs": [],
   "source": [
    "import pandas as pd\n",
    "data = pd.read_csv('D:/ShipSupplies/DA/data/raw.csv')"
   ]
  },
  {
   "cell_type": "code",
   "execution_count": 4,
   "metadata": {
    "id": "gN4R12Cz7WYk"
   },
   "outputs": [
    {
     "name": "stdout",
     "output_type": "stream",
     "text": [
      "<class 'pandas.core.frame.DataFrame'>\n",
      "RangeIndex: 24667 entries, 0 to 24666\n",
      "Data columns (total 27 columns):\n",
      " #   Column       Non-Null Count  Dtype  \n",
      "---  ------       --------------  -----  \n",
      " 0   Assembly     24664 non-null  object \n",
      " 1   Control No.  15465 non-null  object \n",
      " 2   D/T          22335 non-null  object \n",
      " 3   Machinery    24664 non-null  object \n",
      " 4   No.          24664 non-null  float64\n",
      " 5   Part No.1    24640 non-null  object \n",
      " 6   Subject      24642 non-null  object \n",
      " 7   견적           24200 non-null  object \n",
      " 8   견적단가         24664 non-null  float64\n",
      " 9   견적수량         24546 non-null  float64\n",
      " 10  견적화폐         24546 non-null  object \n",
      " 11  발주           24546 non-null  object \n",
      " 12  발주금액         24549 non-null  float64\n",
      " 13  발주번호         24664 non-null  object \n",
      " 14  발주수량         24546 non-null  float64\n",
      " 15  발주처          24546 non-null  object \n",
      " 16  선박입고수량       24664 non-null  float64\n",
      " 17  입고창고         21345 non-null  object \n",
      " 18  창고입고         21345 non-null  object \n",
      " 19  창고입고수량       24664 non-null  float64\n",
      " 20  창고출고         19277 non-null  object \n",
      " 21  창고출고수량       24664 non-null  float64\n",
      " 22  청구량          24546 non-null  float64\n",
      " 23  청구서번호        24664 non-null  object \n",
      " 24  청구품목         24664 non-null  object \n",
      " 25  출고선박         19277 non-null  object \n",
      " 26  출고운반선        19277 non-null  object \n",
      "dtypes: float64(9), object(18)\n",
      "memory usage: 5.1+ MB\n"
     ]
    }
   ],
   "source": [
    "data.info()"
   ]
  },
  {
   "cell_type": "code",
   "execution_count": 5,
   "metadata": {
    "id": "6cdqo1K94Cvr"
   },
   "outputs": [
    {
     "data": {
      "text/plain": [
       "Assembly       24664\n",
       "Control No.    15465\n",
       "D/T            22335\n",
       "Machinery      24664\n",
       "No.            24664\n",
       "Part No.1      24640\n",
       "Subject        24642\n",
       "견적             24200\n",
       "견적단가           24664\n",
       "견적수량           24546\n",
       "견적화폐           24546\n",
       "발주             24546\n",
       "발주금액           24549\n",
       "발주번호           24664\n",
       "발주수량           24546\n",
       "발주처            24546\n",
       "선박입고수량         24664\n",
       "입고창고           21345\n",
       "창고입고           21345\n",
       "창고입고수량         24664\n",
       "창고출고           19277\n",
       "창고출고수량         24664\n",
       "청구량            24546\n",
       "청구서번호          24664\n",
       "청구품목           24664\n",
       "출고선박           19277\n",
       "출고운반선          19277\n",
       "dtype: int64"
      ]
     },
     "execution_count": 5,
     "metadata": {},
     "output_type": "execute_result"
    }
   ],
   "source": [
    "data.count()"
   ]
  },
  {
   "cell_type": "markdown",
   "metadata": {
    "id": "U_giPU-dR4FI"
   },
   "source": [
    "결측치 0으로 대체"
   ]
  },
  {
   "cell_type": "code",
   "execution_count": 6,
   "metadata": {
    "id": "_g6b5xfQLjat"
   },
   "outputs": [],
   "source": [
    "df = data.fillna(0)"
   ]
  },
  {
   "cell_type": "markdown",
   "metadata": {
    "id": "ujp6alZrSBK-"
   },
   "source": [
    "데이터 조회"
   ]
  },
  {
   "cell_type": "code",
   "execution_count": 7,
   "metadata": {
    "id": "xGoOQwepWg7O"
   },
   "outputs": [
    {
     "data": {
      "text/html": [
       "<div>\n",
       "<style scoped>\n",
       "    .dataframe tbody tr th:only-of-type {\n",
       "        vertical-align: middle;\n",
       "    }\n",
       "\n",
       "    .dataframe tbody tr th {\n",
       "        vertical-align: top;\n",
       "    }\n",
       "\n",
       "    .dataframe thead th {\n",
       "        text-align: right;\n",
       "    }\n",
       "</style>\n",
       "<table border=\"1\" class=\"dataframe\">\n",
       "  <thead>\n",
       "    <tr style=\"text-align: right;\">\n",
       "      <th></th>\n",
       "      <th>Assembly</th>\n",
       "      <th>Control No.</th>\n",
       "      <th>D/T</th>\n",
       "      <th>Machinery</th>\n",
       "      <th>No.</th>\n",
       "      <th>Part No.1</th>\n",
       "      <th>Subject</th>\n",
       "      <th>견적</th>\n",
       "      <th>견적단가</th>\n",
       "      <th>견적수량</th>\n",
       "      <th>...</th>\n",
       "      <th>입고창고</th>\n",
       "      <th>창고입고</th>\n",
       "      <th>창고입고수량</th>\n",
       "      <th>창고출고</th>\n",
       "      <th>창고출고수량</th>\n",
       "      <th>청구량</th>\n",
       "      <th>청구서번호</th>\n",
       "      <th>청구품목</th>\n",
       "      <th>출고선박</th>\n",
       "      <th>출고운반선</th>\n",
       "    </tr>\n",
       "  </thead>\n",
       "  <tbody>\n",
       "    <tr>\n",
       "      <th>0</th>\n",
       "      <td>BLOCK</td>\n",
       "      <td>19-04-077</td>\n",
       "      <td>56</td>\n",
       "      <td>CARGO BOOM VANG BLOCK (STBD 하)</td>\n",
       "      <td>1.0</td>\n",
       "      <td>C15S10BS</td>\n",
       "      <td>COK-F-DECK-190104-01</td>\n",
       "      <td>2019-01-11</td>\n",
       "      <td>1022.76</td>\n",
       "      <td>2.0</td>\n",
       "      <td>...</td>\n",
       "      <td>BW</td>\n",
       "      <td>2019-05-03</td>\n",
       "      <td>2.0</td>\n",
       "      <td>2019-05-20</td>\n",
       "      <td>2.0</td>\n",
       "      <td>2.0</td>\n",
       "      <td>COK-BS-DSP-1901004</td>\n",
       "      <td>MCKISSICK CONSTRUCTION BLOCKS (WIRE SIZE : 5/8\")</td>\n",
       "      <td>COK</td>\n",
       "      <td>ONENESS</td>\n",
       "    </tr>\n",
       "    <tr>\n",
       "      <th>1</th>\n",
       "      <td>BLOCK</td>\n",
       "      <td>19-04-064</td>\n",
       "      <td>56</td>\n",
       "      <td>SPANISH BOOM VANG BLOCK (PORT 상)</td>\n",
       "      <td>2.0</td>\n",
       "      <td>C15D10BS</td>\n",
       "      <td>COK-F-DECK-190104-01</td>\n",
       "      <td>2019-01-11</td>\n",
       "      <td>1713.96</td>\n",
       "      <td>1.0</td>\n",
       "      <td>...</td>\n",
       "      <td>BW</td>\n",
       "      <td>2019-04-18</td>\n",
       "      <td>1.0</td>\n",
       "      <td>2019-05-20</td>\n",
       "      <td>1.0</td>\n",
       "      <td>1.0</td>\n",
       "      <td>COK-BS-DSP-1901004</td>\n",
       "      <td>MCKISSICK CONSTRUCTION BLOCKS (WIRE SIZE : 5/8\")</td>\n",
       "      <td>COK</td>\n",
       "      <td>ONENESS편 탁송</td>\n",
       "    </tr>\n",
       "    <tr>\n",
       "      <th>2</th>\n",
       "      <td>TOW BLOCK</td>\n",
       "      <td>19-04-077</td>\n",
       "      <td>56</td>\n",
       "      <td>PURSE BLOCK</td>\n",
       "      <td>3.0</td>\n",
       "      <td>WESTEC 20TON TOW BLOCK</td>\n",
       "      <td>COK-F-DECK-190104-01</td>\n",
       "      <td>2019-01-11</td>\n",
       "      <td>5843.75</td>\n",
       "      <td>1.0</td>\n",
       "      <td>...</td>\n",
       "      <td>BW</td>\n",
       "      <td>2019-05-03</td>\n",
       "      <td>1.0</td>\n",
       "      <td>2019-05-20</td>\n",
       "      <td>1.0</td>\n",
       "      <td>1.0</td>\n",
       "      <td>COK-BS-DSP-1901004</td>\n",
       "      <td>WESTEC 20TON TOW BLOCK</td>\n",
       "      <td>COK</td>\n",
       "      <td>ONENESS</td>\n",
       "    </tr>\n",
       "    <tr>\n",
       "      <th>3</th>\n",
       "      <td>POWER PACK AS</td>\n",
       "      <td>0</td>\n",
       "      <td>60</td>\n",
       "      <td>MAIN ENGINE</td>\n",
       "      <td>1.0</td>\n",
       "      <td>40028340</td>\n",
       "      <td>폰페이 재고정정</td>\n",
       "      <td>2019-04-01</td>\n",
       "      <td>4000.00</td>\n",
       "      <td>8.0</td>\n",
       "      <td>...</td>\n",
       "      <td>PN</td>\n",
       "      <td>2019-04-01</td>\n",
       "      <td>8.0</td>\n",
       "      <td>2019-08-01</td>\n",
       "      <td>1.0</td>\n",
       "      <td>8.0</td>\n",
       "      <td>COK-BS-DSP-1905036</td>\n",
       "      <td>GE POWER PACK FORK - E7(B)</td>\n",
       "      <td>DEO</td>\n",
       "      <td>HANARO</td>\n",
       "    </tr>\n",
       "    <tr>\n",
       "      <th>4</th>\n",
       "      <td>POWER PACK AS</td>\n",
       "      <td>0</td>\n",
       "      <td>60</td>\n",
       "      <td>MAIN ENGINE</td>\n",
       "      <td>2.0</td>\n",
       "      <td>40028340</td>\n",
       "      <td>폰페이 재고정정</td>\n",
       "      <td>2019-04-01</td>\n",
       "      <td>4000.00</td>\n",
       "      <td>8.0</td>\n",
       "      <td>...</td>\n",
       "      <td>PN</td>\n",
       "      <td>2019-04-01</td>\n",
       "      <td>8.0</td>\n",
       "      <td>2019-08-29</td>\n",
       "      <td>7.0</td>\n",
       "      <td>8.0</td>\n",
       "      <td>COK-BS-DSP-1905036</td>\n",
       "      <td>GE POWER PACK FORK - E7(B)</td>\n",
       "      <td>ELS</td>\n",
       "      <td>SL ARCHI</td>\n",
       "    </tr>\n",
       "  </tbody>\n",
       "</table>\n",
       "<p>5 rows × 27 columns</p>\n",
       "</div>"
      ],
      "text/plain": [
       "        Assembly Control No. D/T                         Machinery  No.   \n",
       "0          BLOCK   19-04-077  56    CARGO BOOM VANG BLOCK (STBD 하)  1.0  \\\n",
       "1          BLOCK   19-04-064  56  SPANISH BOOM VANG BLOCK (PORT 상)  2.0   \n",
       "2      TOW BLOCK   19-04-077  56                       PURSE BLOCK  3.0   \n",
       "3  POWER PACK AS           0  60                       MAIN ENGINE  1.0   \n",
       "4  POWER PACK AS           0  60                       MAIN ENGINE  2.0   \n",
       "\n",
       "                Part No.1               Subject          견적     견적단가  견적수량   \n",
       "0                C15S10BS  COK-F-DECK-190104-01  2019-01-11  1022.76   2.0  \\\n",
       "1                C15D10BS  COK-F-DECK-190104-01  2019-01-11  1713.96   1.0   \n",
       "2  WESTEC 20TON TOW BLOCK  COK-F-DECK-190104-01  2019-01-11  5843.75   1.0   \n",
       "3                40028340              폰페이 재고정정  2019-04-01  4000.00   8.0   \n",
       "4                40028340              폰페이 재고정정  2019-04-01  4000.00   8.0   \n",
       "\n",
       "   ... 입고창고        창고입고  창고입고수량        창고출고  창고출고수량  청구량               청구서번호   \n",
       "0  ...   BW  2019-05-03     2.0  2019-05-20     2.0  2.0  COK-BS-DSP-1901004  \\\n",
       "1  ...   BW  2019-04-18     1.0  2019-05-20     1.0  1.0  COK-BS-DSP-1901004   \n",
       "2  ...   BW  2019-05-03     1.0  2019-05-20     1.0  1.0  COK-BS-DSP-1901004   \n",
       "3  ...   PN  2019-04-01     8.0  2019-08-01     1.0  8.0  COK-BS-DSP-1905036   \n",
       "4  ...   PN  2019-04-01     8.0  2019-08-29     7.0  8.0  COK-BS-DSP-1905036   \n",
       "\n",
       "                                               청구품목 출고선박        출고운반선  \n",
       "0  MCKISSICK CONSTRUCTION BLOCKS (WIRE SIZE : 5/8\")  COK      ONENESS  \n",
       "1  MCKISSICK CONSTRUCTION BLOCKS (WIRE SIZE : 5/8\")  COK  ONENESS편 탁송  \n",
       "2                            WESTEC 20TON TOW BLOCK  COK      ONENESS  \n",
       "3                        GE POWER PACK FORK - E7(B)  DEO       HANARO  \n",
       "4                        GE POWER PACK FORK - E7(B)  ELS     SL ARCHI  \n",
       "\n",
       "[5 rows x 27 columns]"
      ]
     },
     "execution_count": 7,
     "metadata": {},
     "output_type": "execute_result"
    }
   ],
   "source": [
    "# head\n",
    "df.head()"
   ]
  },
  {
   "cell_type": "code",
   "execution_count": 8,
   "metadata": {
    "colab": {
     "base_uri": "https://localhost:8080/"
    },
    "id": "BBbQE6agMOkc",
    "outputId": "35328752-c8e3-4fbe-c54e-7bdf4d080b64"
   },
   "outputs": [
    {
     "data": {
      "text/plain": [
       "Index(['Assembly', 'Control No.', 'D/T', 'Machinery', 'No.', 'Part No.1',\n",
       "       'Subject', '견적', '견적단가', '견적수량', '견적화폐', '발주', '발주금액', '발주번호', '발주수량',\n",
       "       '발주처', '선박입고수량', '입고창고', '창고입고', '창고입고수량', '창고출고', '창고출고수량', '청구량',\n",
       "       '청구서번호', '청구품목', '출고선박', '출고운반선'],\n",
       "      dtype='object')"
      ]
     },
     "execution_count": 8,
     "metadata": {},
     "output_type": "execute_result"
    }
   ],
   "source": [
    "# column명\n",
    "df.columns"
   ]
  },
  {
   "cell_type": "code",
   "execution_count": 9,
   "metadata": {
    "id": "-rkMOnhbV5TR"
   },
   "outputs": [
    {
     "name": "stdout",
     "output_type": "stream",
     "text": [
      "<class 'pandas.core.frame.DataFrame'>\n",
      "RangeIndex: 24667 entries, 0 to 24666\n",
      "Data columns (total 27 columns):\n",
      " #   Column       Non-Null Count  Dtype  \n",
      "---  ------       --------------  -----  \n",
      " 0   Assembly     24667 non-null  object \n",
      " 1   Control No.  24667 non-null  object \n",
      " 2   D/T          24667 non-null  object \n",
      " 3   Machinery    24667 non-null  object \n",
      " 4   No.          24667 non-null  float64\n",
      " 5   Part No.1    24667 non-null  object \n",
      " 6   Subject      24667 non-null  object \n",
      " 7   견적           24667 non-null  object \n",
      " 8   견적단가         24667 non-null  float64\n",
      " 9   견적수량         24667 non-null  float64\n",
      " 10  견적화폐         24667 non-null  object \n",
      " 11  발주           24667 non-null  object \n",
      " 12  발주금액         24667 non-null  float64\n",
      " 13  발주번호         24667 non-null  object \n",
      " 14  발주수량         24667 non-null  float64\n",
      " 15  발주처          24667 non-null  object \n",
      " 16  선박입고수량       24667 non-null  float64\n",
      " 17  입고창고         24667 non-null  object \n",
      " 18  창고입고         24667 non-null  object \n",
      " 19  창고입고수량       24667 non-null  float64\n",
      " 20  창고출고         24667 non-null  object \n",
      " 21  창고출고수량       24667 non-null  float64\n",
      " 22  청구량          24667 non-null  float64\n",
      " 23  청구서번호        24667 non-null  object \n",
      " 24  청구품목         24667 non-null  object \n",
      " 25  출고선박         24667 non-null  object \n",
      " 26  출고운반선        24667 non-null  object \n",
      "dtypes: float64(9), object(18)\n",
      "memory usage: 5.1+ MB\n"
     ]
    }
   ],
   "source": [
    "# column별 정보\n",
    "df.info()"
   ]
  },
  {
   "cell_type": "code",
   "execution_count": 10,
   "metadata": {
    "id": "aIfqVJGE7bq4"
   },
   "outputs": [
    {
     "data": {
      "text/plain": [
       "Assembly       24667\n",
       "Control No.    24667\n",
       "D/T            24667\n",
       "Machinery      24667\n",
       "No.            24667\n",
       "Part No.1      24667\n",
       "Subject        24667\n",
       "견적             24667\n",
       "견적단가           24667\n",
       "견적수량           24667\n",
       "견적화폐           24667\n",
       "발주             24667\n",
       "발주금액           24667\n",
       "발주번호           24667\n",
       "발주수량           24667\n",
       "발주처            24667\n",
       "선박입고수량         24667\n",
       "입고창고           24667\n",
       "창고입고           24667\n",
       "창고입고수량         24667\n",
       "창고출고           24667\n",
       "창고출고수량         24667\n",
       "청구량            24667\n",
       "청구서번호          24667\n",
       "청구품목           24667\n",
       "출고선박           24667\n",
       "출고운반선          24667\n",
       "dtype: int64"
      ]
     },
     "execution_count": 10,
     "metadata": {},
     "output_type": "execute_result"
    }
   ],
   "source": [
    "df.count()"
   ]
  },
  {
   "cell_type": "markdown",
   "metadata": {
    "id": "eMN_g60BSVa1"
   },
   "source": [
    "데이터 타입 변경 및 데이터 전처리"
   ]
  },
  {
   "cell_type": "code",
   "execution_count": 14,
   "metadata": {
    "id": "IpRU6BRce_Cm"
   },
   "outputs": [
    {
     "ename": "ValueError",
     "evalue": "invalid literal for int() with base 10: '1022.76'",
     "output_type": "error",
     "traceback": [
      "\u001b[1;31m---------------------------------------------------------------------------\u001b[0m",
      "\u001b[1;31mValueError\u001b[0m                                Traceback (most recent call last)",
      "Cell \u001b[1;32mIn[14], line 4\u001b[0m\n\u001b[0;32m      2\u001b[0m df[\u001b[39m'\u001b[39m\u001b[39m견적단가\u001b[39m\u001b[39m'\u001b[39m] \u001b[39m=\u001b[39m df[\u001b[39m'\u001b[39m\u001b[39m견적단가\u001b[39m\u001b[39m'\u001b[39m]\u001b[39m.\u001b[39mastype(\u001b[39m'\u001b[39m\u001b[39mstring\u001b[39m\u001b[39m'\u001b[39m)\n\u001b[0;32m      3\u001b[0m df[\u001b[39m'\u001b[39m\u001b[39m견적단가\u001b[39m\u001b[39m'\u001b[39m] \u001b[39m=\u001b[39m df[\u001b[39m'\u001b[39m\u001b[39m견적단가\u001b[39m\u001b[39m'\u001b[39m]\u001b[39m.\u001b[39mstr\u001b[39m.\u001b[39mreplace(\u001b[39m'\u001b[39m\u001b[39m\"\u001b[39m\u001b[39m'\u001b[39m, \u001b[39m'\u001b[39m\u001b[39m'\u001b[39m)\n\u001b[1;32m----> 4\u001b[0m df[\u001b[39m'\u001b[39m\u001b[39m견적단가\u001b[39m\u001b[39m'\u001b[39m] \u001b[39m=\u001b[39m df[\u001b[39m'\u001b[39;49m\u001b[39m견적단가\u001b[39;49m\u001b[39m'\u001b[39;49m]\u001b[39m.\u001b[39;49mstr\u001b[39m.\u001b[39;49mreplace(\u001b[39m'\u001b[39;49m\u001b[39m,\u001b[39;49m\u001b[39m'\u001b[39;49m, \u001b[39m'\u001b[39;49m\u001b[39m'\u001b[39;49m)\u001b[39m.\u001b[39;49mastype(\u001b[39m'\u001b[39;49m\u001b[39mint64\u001b[39;49m\u001b[39m'\u001b[39;49m)\n\u001b[0;32m      5\u001b[0m df[\u001b[39m'\u001b[39m\u001b[39m발주\u001b[39m\u001b[39m'\u001b[39m] \u001b[39m=\u001b[39m pd\u001b[39m.\u001b[39mto_datetime(df[\u001b[39m'\u001b[39m\u001b[39m발주\u001b[39m\u001b[39m'\u001b[39m])\n\u001b[0;32m      6\u001b[0m df[\u001b[39m'\u001b[39m\u001b[39m발주금액\u001b[39m\u001b[39m'\u001b[39m] \u001b[39m=\u001b[39m df[\u001b[39m'\u001b[39m\u001b[39m발주금액\u001b[39m\u001b[39m'\u001b[39m]\u001b[39m.\u001b[39mastype(\u001b[39m'\u001b[39m\u001b[39mstring\u001b[39m\u001b[39m'\u001b[39m)\n",
      "File \u001b[1;32md:\\ShipSupplies\\venv\\lib\\site-packages\\pandas\\core\\generic.py:6324\u001b[0m, in \u001b[0;36mNDFrame.astype\u001b[1;34m(self, dtype, copy, errors)\u001b[0m\n\u001b[0;32m   6317\u001b[0m     results \u001b[39m=\u001b[39m [\n\u001b[0;32m   6318\u001b[0m         \u001b[39mself\u001b[39m\u001b[39m.\u001b[39miloc[:, i]\u001b[39m.\u001b[39mastype(dtype, copy\u001b[39m=\u001b[39mcopy)\n\u001b[0;32m   6319\u001b[0m         \u001b[39mfor\u001b[39;00m i \u001b[39min\u001b[39;00m \u001b[39mrange\u001b[39m(\u001b[39mlen\u001b[39m(\u001b[39mself\u001b[39m\u001b[39m.\u001b[39mcolumns))\n\u001b[0;32m   6320\u001b[0m     ]\n\u001b[0;32m   6322\u001b[0m \u001b[39melse\u001b[39;00m:\n\u001b[0;32m   6323\u001b[0m     \u001b[39m# else, only a single dtype is given\u001b[39;00m\n\u001b[1;32m-> 6324\u001b[0m     new_data \u001b[39m=\u001b[39m \u001b[39mself\u001b[39;49m\u001b[39m.\u001b[39;49m_mgr\u001b[39m.\u001b[39;49mastype(dtype\u001b[39m=\u001b[39;49mdtype, copy\u001b[39m=\u001b[39;49mcopy, errors\u001b[39m=\u001b[39;49merrors)\n\u001b[0;32m   6325\u001b[0m     \u001b[39mreturn\u001b[39;00m \u001b[39mself\u001b[39m\u001b[39m.\u001b[39m_constructor(new_data)\u001b[39m.\u001b[39m__finalize__(\u001b[39mself\u001b[39m, method\u001b[39m=\u001b[39m\u001b[39m\"\u001b[39m\u001b[39mastype\u001b[39m\u001b[39m\"\u001b[39m)\n\u001b[0;32m   6327\u001b[0m \u001b[39m# GH 33113: handle empty frame or series\u001b[39;00m\n",
      "File \u001b[1;32md:\\ShipSupplies\\venv\\lib\\site-packages\\pandas\\core\\internals\\managers.py:451\u001b[0m, in \u001b[0;36mBaseBlockManager.astype\u001b[1;34m(self, dtype, copy, errors)\u001b[0m\n\u001b[0;32m    448\u001b[0m \u001b[39melif\u001b[39;00m using_copy_on_write():\n\u001b[0;32m    449\u001b[0m     copy \u001b[39m=\u001b[39m \u001b[39mFalse\u001b[39;00m\n\u001b[1;32m--> 451\u001b[0m \u001b[39mreturn\u001b[39;00m \u001b[39mself\u001b[39;49m\u001b[39m.\u001b[39;49mapply(\n\u001b[0;32m    452\u001b[0m     \u001b[39m\"\u001b[39;49m\u001b[39mastype\u001b[39;49m\u001b[39m\"\u001b[39;49m,\n\u001b[0;32m    453\u001b[0m     dtype\u001b[39m=\u001b[39;49mdtype,\n\u001b[0;32m    454\u001b[0m     copy\u001b[39m=\u001b[39;49mcopy,\n\u001b[0;32m    455\u001b[0m     errors\u001b[39m=\u001b[39;49merrors,\n\u001b[0;32m    456\u001b[0m     using_cow\u001b[39m=\u001b[39;49musing_copy_on_write(),\n\u001b[0;32m    457\u001b[0m )\n",
      "File \u001b[1;32md:\\ShipSupplies\\venv\\lib\\site-packages\\pandas\\core\\internals\\managers.py:352\u001b[0m, in \u001b[0;36mBaseBlockManager.apply\u001b[1;34m(self, f, align_keys, **kwargs)\u001b[0m\n\u001b[0;32m    350\u001b[0m         applied \u001b[39m=\u001b[39m b\u001b[39m.\u001b[39mapply(f, \u001b[39m*\u001b[39m\u001b[39m*\u001b[39mkwargs)\n\u001b[0;32m    351\u001b[0m     \u001b[39melse\u001b[39;00m:\n\u001b[1;32m--> 352\u001b[0m         applied \u001b[39m=\u001b[39m \u001b[39mgetattr\u001b[39m(b, f)(\u001b[39m*\u001b[39m\u001b[39m*\u001b[39mkwargs)\n\u001b[0;32m    353\u001b[0m     result_blocks \u001b[39m=\u001b[39m extend_blocks(applied, result_blocks)\n\u001b[0;32m    355\u001b[0m out \u001b[39m=\u001b[39m \u001b[39mtype\u001b[39m(\u001b[39mself\u001b[39m)\u001b[39m.\u001b[39mfrom_blocks(result_blocks, \u001b[39mself\u001b[39m\u001b[39m.\u001b[39maxes)\n",
      "File \u001b[1;32md:\\ShipSupplies\\venv\\lib\\site-packages\\pandas\\core\\internals\\blocks.py:511\u001b[0m, in \u001b[0;36mBlock.astype\u001b[1;34m(self, dtype, copy, errors, using_cow)\u001b[0m\n\u001b[0;32m    491\u001b[0m \u001b[39m\u001b[39m\u001b[39m\"\"\"\u001b[39;00m\n\u001b[0;32m    492\u001b[0m \u001b[39mCoerce to the new dtype.\u001b[39;00m\n\u001b[0;32m    493\u001b[0m \n\u001b[1;32m   (...)\u001b[0m\n\u001b[0;32m    507\u001b[0m \u001b[39mBlock\u001b[39;00m\n\u001b[0;32m    508\u001b[0m \u001b[39m\"\"\"\u001b[39;00m\n\u001b[0;32m    509\u001b[0m values \u001b[39m=\u001b[39m \u001b[39mself\u001b[39m\u001b[39m.\u001b[39mvalues\n\u001b[1;32m--> 511\u001b[0m new_values \u001b[39m=\u001b[39m astype_array_safe(values, dtype, copy\u001b[39m=\u001b[39;49mcopy, errors\u001b[39m=\u001b[39;49merrors)\n\u001b[0;32m    513\u001b[0m new_values \u001b[39m=\u001b[39m maybe_coerce_values(new_values)\n\u001b[0;32m    515\u001b[0m refs \u001b[39m=\u001b[39m \u001b[39mNone\u001b[39;00m\n",
      "File \u001b[1;32md:\\ShipSupplies\\venv\\lib\\site-packages\\pandas\\core\\dtypes\\astype.py:242\u001b[0m, in \u001b[0;36mastype_array_safe\u001b[1;34m(values, dtype, copy, errors)\u001b[0m\n\u001b[0;32m    239\u001b[0m     dtype \u001b[39m=\u001b[39m dtype\u001b[39m.\u001b[39mnumpy_dtype\n\u001b[0;32m    241\u001b[0m \u001b[39mtry\u001b[39;00m:\n\u001b[1;32m--> 242\u001b[0m     new_values \u001b[39m=\u001b[39m astype_array(values, dtype, copy\u001b[39m=\u001b[39;49mcopy)\n\u001b[0;32m    243\u001b[0m \u001b[39mexcept\u001b[39;00m (\u001b[39mValueError\u001b[39;00m, \u001b[39mTypeError\u001b[39;00m):\n\u001b[0;32m    244\u001b[0m     \u001b[39m# e.g. _astype_nansafe can fail on object-dtype of strings\u001b[39;00m\n\u001b[0;32m    245\u001b[0m     \u001b[39m#  trying to convert to float\u001b[39;00m\n\u001b[0;32m    246\u001b[0m     \u001b[39mif\u001b[39;00m errors \u001b[39m==\u001b[39m \u001b[39m\"\u001b[39m\u001b[39mignore\u001b[39m\u001b[39m\"\u001b[39m:\n",
      "File \u001b[1;32md:\\ShipSupplies\\venv\\lib\\site-packages\\pandas\\core\\dtypes\\astype.py:184\u001b[0m, in \u001b[0;36mastype_array\u001b[1;34m(values, dtype, copy)\u001b[0m\n\u001b[0;32m    180\u001b[0m     \u001b[39mreturn\u001b[39;00m values\n\u001b[0;32m    182\u001b[0m \u001b[39mif\u001b[39;00m \u001b[39mnot\u001b[39;00m \u001b[39misinstance\u001b[39m(values, np\u001b[39m.\u001b[39mndarray):\n\u001b[0;32m    183\u001b[0m     \u001b[39m# i.e. ExtensionArray\u001b[39;00m\n\u001b[1;32m--> 184\u001b[0m     values \u001b[39m=\u001b[39m values\u001b[39m.\u001b[39;49mastype(dtype, copy\u001b[39m=\u001b[39;49mcopy)\n\u001b[0;32m    186\u001b[0m \u001b[39melse\u001b[39;00m:\n\u001b[0;32m    187\u001b[0m     values \u001b[39m=\u001b[39m _astype_nansafe(values, dtype, copy\u001b[39m=\u001b[39mcopy)\n",
      "File \u001b[1;32md:\\ShipSupplies\\venv\\lib\\site-packages\\pandas\\core\\arrays\\string_.py:468\u001b[0m, in \u001b[0;36mStringArray.astype\u001b[1;34m(self, dtype, copy)\u001b[0m\n\u001b[0;32m    465\u001b[0m     values[mask] \u001b[39m=\u001b[39m np\u001b[39m.\u001b[39mnan\n\u001b[0;32m    466\u001b[0m     \u001b[39mreturn\u001b[39;00m values\n\u001b[1;32m--> 468\u001b[0m \u001b[39mreturn\u001b[39;00m \u001b[39msuper\u001b[39;49m()\u001b[39m.\u001b[39;49mastype(dtype, copy)\n",
      "File \u001b[1;32md:\\ShipSupplies\\venv\\lib\\site-packages\\pandas\\core\\arrays\\numpy_.py:201\u001b[0m, in \u001b[0;36mPandasArray.astype\u001b[1;34m(self, dtype, copy)\u001b[0m\n\u001b[0;32m    198\u001b[0m         \u001b[39mreturn\u001b[39;00m \u001b[39mself\u001b[39m\u001b[39m.\u001b[39mcopy()\n\u001b[0;32m    199\u001b[0m     \u001b[39mreturn\u001b[39;00m \u001b[39mself\u001b[39m\n\u001b[1;32m--> 201\u001b[0m result \u001b[39m=\u001b[39m astype_array(\u001b[39mself\u001b[39;49m\u001b[39m.\u001b[39;49m_ndarray, dtype\u001b[39m=\u001b[39;49mdtype, copy\u001b[39m=\u001b[39;49mcopy)\n\u001b[0;32m    202\u001b[0m \u001b[39mreturn\u001b[39;00m result\n",
      "File \u001b[1;32md:\\ShipSupplies\\venv\\lib\\site-packages\\pandas\\core\\dtypes\\astype.py:187\u001b[0m, in \u001b[0;36mastype_array\u001b[1;34m(values, dtype, copy)\u001b[0m\n\u001b[0;32m    184\u001b[0m     values \u001b[39m=\u001b[39m values\u001b[39m.\u001b[39mastype(dtype, copy\u001b[39m=\u001b[39mcopy)\n\u001b[0;32m    186\u001b[0m \u001b[39melse\u001b[39;00m:\n\u001b[1;32m--> 187\u001b[0m     values \u001b[39m=\u001b[39m _astype_nansafe(values, dtype, copy\u001b[39m=\u001b[39;49mcopy)\n\u001b[0;32m    189\u001b[0m \u001b[39m# in pandas we don't store numpy str dtypes, so convert to object\u001b[39;00m\n\u001b[0;32m    190\u001b[0m \u001b[39mif\u001b[39;00m \u001b[39misinstance\u001b[39m(dtype, np\u001b[39m.\u001b[39mdtype) \u001b[39mand\u001b[39;00m \u001b[39missubclass\u001b[39m(values\u001b[39m.\u001b[39mdtype\u001b[39m.\u001b[39mtype, \u001b[39mstr\u001b[39m):\n",
      "File \u001b[1;32md:\\ShipSupplies\\venv\\lib\\site-packages\\pandas\\core\\dtypes\\astype.py:138\u001b[0m, in \u001b[0;36m_astype_nansafe\u001b[1;34m(arr, dtype, copy, skipna)\u001b[0m\n\u001b[0;32m    134\u001b[0m     \u001b[39mraise\u001b[39;00m \u001b[39mValueError\u001b[39;00m(msg)\n\u001b[0;32m    136\u001b[0m \u001b[39mif\u001b[39;00m copy \u001b[39mor\u001b[39;00m is_object_dtype(arr\u001b[39m.\u001b[39mdtype) \u001b[39mor\u001b[39;00m is_object_dtype(dtype):\n\u001b[0;32m    137\u001b[0m     \u001b[39m# Explicit copy, or required since NumPy can't view from / to object.\u001b[39;00m\n\u001b[1;32m--> 138\u001b[0m     \u001b[39mreturn\u001b[39;00m arr\u001b[39m.\u001b[39;49mastype(dtype, copy\u001b[39m=\u001b[39;49m\u001b[39mTrue\u001b[39;49;00m)\n\u001b[0;32m    140\u001b[0m \u001b[39mreturn\u001b[39;00m arr\u001b[39m.\u001b[39mastype(dtype, copy\u001b[39m=\u001b[39mcopy)\n",
      "\u001b[1;31mValueError\u001b[0m: invalid literal for int() with base 10: '1022.76'"
     ]
    }
   ],
   "source": [
    "# df['견적'] = pd.to_datetime(df['견적'])\n",
    "df['견적단가'] = df['견적단가'].astype('string')\n",
    "df['견적단가'] = df['견적단가'].str.replace('\"', '')\n",
    "df['견적단가'] = df['견적단가'].str.replace(',', '').astype('int64')\n",
    "df['발주'] = pd.to_datetime(df['발주'])\n",
    "df['발주금액'] = df['발주금액'].astype('string')\n",
    "df['발주금액'] = df['발주금액'].str.replace('\"', '')\n",
    "df['발주금액'] = df['발주금액'].str.replace(',', '').astype('int64')\n",
    "df['창고입고'] = pd.to_datetime(df['창고입고'])\n",
    "df['창고입고수량'] = pd.to_numeric(df['창고입고수량'])"
   ]
  },
  {
   "cell_type": "code",
   "execution_count": 13,
   "metadata": {},
   "outputs": [
    {
     "ename": "ValueError",
     "evalue": "time data \"0\" doesn't match format \"%Y-%m-%d\", at position 35. You might want to try:\n    - passing `format` if your strings have a consistent format;\n    - passing `format='ISO8601'` if your strings are all ISO8601 but not necessarily in exactly the same format;\n    - passing `format='mixed'`, and the format will be inferred for each element individually. You might want to use `dayfirst` alongside this.",
     "output_type": "error",
     "traceback": [
      "\u001b[1;31m---------------------------------------------------------------------------\u001b[0m",
      "\u001b[1;31mValueError\u001b[0m                                Traceback (most recent call last)",
      "Cell \u001b[1;32mIn[13], line 1\u001b[0m\n\u001b[1;32m----> 1\u001b[0m df[\u001b[39m'\u001b[39m\u001b[39m견적\u001b[39m\u001b[39m'\u001b[39m] \u001b[39m=\u001b[39m pd\u001b[39m.\u001b[39;49mto_datetime(df[\u001b[39m'\u001b[39;49m\u001b[39m견적\u001b[39;49m\u001b[39m'\u001b[39;49m])\n",
      "File \u001b[1;32md:\\ShipSupplies\\venv\\lib\\site-packages\\pandas\\core\\tools\\datetimes.py:1046\u001b[0m, in \u001b[0;36mto_datetime\u001b[1;34m(arg, errors, dayfirst, yearfirst, utc, format, exact, unit, infer_datetime_format, origin, cache)\u001b[0m\n\u001b[0;32m   1044\u001b[0m             result \u001b[39m=\u001b[39m arg\u001b[39m.\u001b[39mtz_localize(\u001b[39m\"\u001b[39m\u001b[39mutc\u001b[39m\u001b[39m\"\u001b[39m)\n\u001b[0;32m   1045\u001b[0m \u001b[39melif\u001b[39;00m \u001b[39misinstance\u001b[39m(arg, ABCSeries):\n\u001b[1;32m-> 1046\u001b[0m     cache_array \u001b[39m=\u001b[39m _maybe_cache(arg, \u001b[39mformat\u001b[39;49m, cache, convert_listlike)\n\u001b[0;32m   1047\u001b[0m     \u001b[39mif\u001b[39;00m \u001b[39mnot\u001b[39;00m cache_array\u001b[39m.\u001b[39mempty:\n\u001b[0;32m   1048\u001b[0m         result \u001b[39m=\u001b[39m arg\u001b[39m.\u001b[39mmap(cache_array)\n",
      "File \u001b[1;32md:\\ShipSupplies\\venv\\lib\\site-packages\\pandas\\core\\tools\\datetimes.py:250\u001b[0m, in \u001b[0;36m_maybe_cache\u001b[1;34m(arg, format, cache, convert_listlike)\u001b[0m\n\u001b[0;32m    248\u001b[0m unique_dates \u001b[39m=\u001b[39m unique(arg)\n\u001b[0;32m    249\u001b[0m \u001b[39mif\u001b[39;00m \u001b[39mlen\u001b[39m(unique_dates) \u001b[39m<\u001b[39m \u001b[39mlen\u001b[39m(arg):\n\u001b[1;32m--> 250\u001b[0m     cache_dates \u001b[39m=\u001b[39m convert_listlike(unique_dates, \u001b[39mformat\u001b[39;49m)\n\u001b[0;32m    251\u001b[0m     \u001b[39m# GH#45319\u001b[39;00m\n\u001b[0;32m    252\u001b[0m     \u001b[39mtry\u001b[39;00m:\n",
      "File \u001b[1;32md:\\ShipSupplies\\venv\\lib\\site-packages\\pandas\\core\\tools\\datetimes.py:453\u001b[0m, in \u001b[0;36m_convert_listlike_datetimes\u001b[1;34m(arg, format, name, utc, unit, errors, dayfirst, yearfirst, exact)\u001b[0m\n\u001b[0;32m    451\u001b[0m \u001b[39m# `format` could be inferred, or user didn't ask for mixed-format parsing.\u001b[39;00m\n\u001b[0;32m    452\u001b[0m \u001b[39mif\u001b[39;00m \u001b[39mformat\u001b[39m \u001b[39mis\u001b[39;00m \u001b[39mnot\u001b[39;00m \u001b[39mNone\u001b[39;00m \u001b[39mand\u001b[39;00m \u001b[39mformat\u001b[39m \u001b[39m!=\u001b[39m \u001b[39m\"\u001b[39m\u001b[39mmixed\u001b[39m\u001b[39m\"\u001b[39m:\n\u001b[1;32m--> 453\u001b[0m     \u001b[39mreturn\u001b[39;00m _array_strptime_with_fallback(arg, name, utc, \u001b[39mformat\u001b[39;49m, exact, errors)\n\u001b[0;32m    455\u001b[0m result, tz_parsed \u001b[39m=\u001b[39m objects_to_datetime64ns(\n\u001b[0;32m    456\u001b[0m     arg,\n\u001b[0;32m    457\u001b[0m     dayfirst\u001b[39m=\u001b[39mdayfirst,\n\u001b[1;32m   (...)\u001b[0m\n\u001b[0;32m    461\u001b[0m     allow_object\u001b[39m=\u001b[39m\u001b[39mTrue\u001b[39;00m,\n\u001b[0;32m    462\u001b[0m )\n\u001b[0;32m    464\u001b[0m \u001b[39mif\u001b[39;00m tz_parsed \u001b[39mis\u001b[39;00m \u001b[39mnot\u001b[39;00m \u001b[39mNone\u001b[39;00m:\n\u001b[0;32m    465\u001b[0m     \u001b[39m# We can take a shortcut since the datetime64 numpy array\u001b[39;00m\n\u001b[0;32m    466\u001b[0m     \u001b[39m# is in UTC\u001b[39;00m\n",
      "File \u001b[1;32md:\\ShipSupplies\\venv\\lib\\site-packages\\pandas\\core\\tools\\datetimes.py:484\u001b[0m, in \u001b[0;36m_array_strptime_with_fallback\u001b[1;34m(arg, name, utc, fmt, exact, errors)\u001b[0m\n\u001b[0;32m    473\u001b[0m \u001b[39mdef\u001b[39;00m \u001b[39m_array_strptime_with_fallback\u001b[39m(\n\u001b[0;32m    474\u001b[0m     arg,\n\u001b[0;32m    475\u001b[0m     name,\n\u001b[1;32m   (...)\u001b[0m\n\u001b[0;32m    479\u001b[0m     errors: \u001b[39mstr\u001b[39m,\n\u001b[0;32m    480\u001b[0m ) \u001b[39m-\u001b[39m\u001b[39m>\u001b[39m Index:\n\u001b[0;32m    481\u001b[0m \u001b[39m    \u001b[39m\u001b[39m\"\"\"\u001b[39;00m\n\u001b[0;32m    482\u001b[0m \u001b[39m    Call array_strptime, with fallback behavior depending on 'errors'.\u001b[39;00m\n\u001b[0;32m    483\u001b[0m \u001b[39m    \"\"\"\u001b[39;00m\n\u001b[1;32m--> 484\u001b[0m     result, timezones \u001b[39m=\u001b[39m array_strptime(arg, fmt, exact\u001b[39m=\u001b[39;49mexact, errors\u001b[39m=\u001b[39;49merrors, utc\u001b[39m=\u001b[39;49mutc)\n\u001b[0;32m    485\u001b[0m     \u001b[39mif\u001b[39;00m \u001b[39many\u001b[39m(tz \u001b[39mis\u001b[39;00m \u001b[39mnot\u001b[39;00m \u001b[39mNone\u001b[39;00m \u001b[39mfor\u001b[39;00m tz \u001b[39min\u001b[39;00m timezones):\n\u001b[0;32m    486\u001b[0m         \u001b[39mreturn\u001b[39;00m _return_parsed_timezone_results(result, timezones, utc, name)\n",
      "File \u001b[1;32md:\\ShipSupplies\\venv\\lib\\site-packages\\pandas\\_libs\\tslibs\\strptime.pyx:530\u001b[0m, in \u001b[0;36mpandas._libs.tslibs.strptime.array_strptime\u001b[1;34m()\u001b[0m\n",
      "File \u001b[1;32md:\\ShipSupplies\\venv\\lib\\site-packages\\pandas\\_libs\\tslibs\\strptime.pyx:351\u001b[0m, in \u001b[0;36mpandas._libs.tslibs.strptime.array_strptime\u001b[1;34m()\u001b[0m\n",
      "\u001b[1;31mValueError\u001b[0m: time data \"0\" doesn't match format \"%Y-%m-%d\", at position 35. You might want to try:\n    - passing `format` if your strings have a consistent format;\n    - passing `format='ISO8601'` if your strings are all ISO8601 but not necessarily in exactly the same format;\n    - passing `format='mixed'`, and the format will be inferred for each element individually. You might want to use `dayfirst` alongside this."
     ]
    }
   ],
   "source": [
    "df['견적'] = pd.to_datetime(df['견적'])"
   ]
  },
  {
   "cell_type": "markdown",
   "metadata": {
    "id": "IiptnxixSgH0"
   },
   "source": [
    "데이터 정제"
   ]
  },
  {
   "cell_type": "code",
   "execution_count": null,
   "metadata": {
    "colab": {
     "base_uri": "https://localhost:8080/"
    },
    "id": "VlMdHMf3MzPt",
    "outputId": "66b7328c-3c0c-4583-c30a-6145cdc19ed9"
   },
   "outputs": [
    {
     "name": "stderr",
     "output_type": "stream",
     "text": [
      "<ipython-input-23-125a6446321d>:2: UserWarning: Boolean Series key will be reindexed to match DataFrame index.\n",
      "  df1 = df1[df['발주'] > '2000-01-01 00:00:00']\n",
      "<ipython-input-23-125a6446321d>:3: UserWarning: Boolean Series key will be reindexed to match DataFrame index.\n",
      "  df1 = df1[df['창고입고'] > '2000-01-01 00:00:00']\n"
     ]
    }
   ],
   "source": [
    "df1 = df[df['리드타임'] >= 0]\n",
    "df1 = df1[df['발주'] > '2000-01-01 00:00:00']\n",
    "df1 = df1[df['창고입고'] > '2000-01-01 00:00:00']"
   ]
  },
  {
   "cell_type": "markdown",
   "metadata": {
    "id": "IBMw5rXoSmWJ"
   },
   "source": [
    "데이터 저장"
   ]
  },
  {
   "cell_type": "code",
   "execution_count": null,
   "metadata": {
    "id": "z_OppfQ4eKtE"
   },
   "outputs": [],
   "source": [
    "df1.to_csv(\"/content/데이터_전처리_파일.csv\", encoding='cp949')"
   ]
  },
  {
   "cell_type": "code",
   "execution_count": null,
   "metadata": {
    "id": "tOK82G9rd1-i"
   },
   "outputs": [],
   "source": [
    "df1.info()"
   ]
  },
  {
   "cell_type": "code",
   "execution_count": null,
   "metadata": {
    "id": "yxk01fH27jfp"
   },
   "outputs": [],
   "source": [
    "df1.count()"
   ]
  }
 ],
 "metadata": {
  "colab": {
   "provenance": []
  },
  "kernelspec": {
   "display_name": "Python 3 (ipykernel)",
   "language": "python",
   "name": "python3"
  },
  "language_info": {
   "codemirror_mode": {
    "name": "ipython",
    "version": 3
   },
   "file_extension": ".py",
   "mimetype": "text/x-python",
   "name": "python",
   "nbconvert_exporter": "python",
   "pygments_lexer": "ipython3",
   "version": "3.10.10"
  }
 },
 "nbformat": 4,
 "nbformat_minor": 4
}
