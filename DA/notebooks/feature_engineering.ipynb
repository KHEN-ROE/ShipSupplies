{
 "cells": [
  {
   "cell_type": "markdown",
   "id": "a7f06a06-41f8-4dbc-8bc9-87a1bae25deb",
   "metadata": {},
   "source": [
    "# 컬럼 조정으로 f1 score 향상되는지 확인"
   ]
  },
  {
   "cell_type": "code",
   "execution_count": 7,
   "id": "5c408390-6320-47e2-97bb-e1ae94f3cd96",
   "metadata": {
    "tags": []
   },
   "outputs": [],
   "source": [
    "import pandas as pd\n",
    "df = pd.read_csv('../data/raw_postpro.csv')"
   ]
  },
  {
   "cell_type": "code",
   "execution_count": 17,
   "id": "45ae785d-b895-4001-bb30-a8c794d09721",
   "metadata": {
    "tags": []
   },
   "outputs": [
    {
     "data": {
      "text/plain": [
       "Index(['청구서번호', 'No.', 'Subject', 'Machinery', 'Assembly', '청구품목', 'Part No.1',\n",
       "       'Part No.2', 'key1', 'key2', '리드타임_음수제거', '청구량', '견적', '견적수량', '견적화폐',\n",
       "       '견적단가', '발주번호', '발주처', '발주', '발주수량', '발주금액', 'D/T', '미입고 기간', '리드타임',\n",
       "       '창고입고', '창고입고수량', 'Control No.', '입고창고', '창고출고', '창고출고수량', '출고선박',\n",
       "       '출고운반선', '선박입고', '선박입고수량', '완료 여부', 'leadtime'],\n",
       "      dtype='object')"
      ]
     },
     "execution_count": 17,
     "metadata": {},
     "output_type": "execute_result"
    }
   ],
   "source": [
    "df.columns\n",
    "# df.info()"
   ]
  },
  {
   "cell_type": "markdown",
   "id": "0f530a2d-d4b7-468c-a34e-c8492326cfb0",
   "metadata": {},
   "source": [
    "# 분류에 필요없다고 판단되는 컬럼 드랍"
   ]
  },
  {
   "cell_type": "code",
   "execution_count": 18,
   "id": "38496970-4e32-45fd-8932-e0e73e00c888",
   "metadata": {
    "tags": []
   },
   "outputs": [],
   "source": [
    "df = df.drop(['청구서번호','No.',  '선박입고','완료 여부','리드타임_음수제거','청구량','견적','견적수량','견적화폐','견적단가','발주번호','발주','발주수량','발주금액','미입고 기간','리드타임','창고입고','창고입고수량','입고창고','창고출고','창고출고수량','출고선박','출고운반선','선박입고','선박입고수량','완료 여부','leadtime'], axis=1)"
   ]
  },
  {
   "cell_type": "code",
   "execution_count": 21,
   "id": "a39a6110-ac20-47af-9508-03e3559b821d",
   "metadata": {
    "tags": []
   },
   "outputs": [
    {
     "name": "stdout",
     "output_type": "stream",
     "text": [
      "<class 'pandas.core.frame.DataFrame'>\n",
      "RangeIndex: 20517 entries, 0 to 20516\n",
      "Data columns (total 11 columns):\n",
      " #   Column       Non-Null Count  Dtype \n",
      "---  ------       --------------  ----- \n",
      " 0   Subject      20517 non-null  object\n",
      " 1   Machinery    20517 non-null  object\n",
      " 2   Assembly     20517 non-null  object\n",
      " 3   청구품목         20517 non-null  object\n",
      " 4   Part No.1    20517 non-null  object\n",
      " 5   Part No.2    20517 non-null  object\n",
      " 6   key1         20517 non-null  object\n",
      " 7   key2         20517 non-null  object\n",
      " 8   발주처          20517 non-null  object\n",
      " 9   D/T          20517 non-null  object\n",
      " 10  Control No.  20517 non-null  object\n",
      "dtypes: object(11)\n",
      "memory usage: 1.7+ MB\n"
     ]
    }
   ],
   "source": [
    "df.info()"
   ]
  },
  {
   "cell_type": "code",
   "execution_count": 29,
   "id": "cc57bdd5-3787-4910-9d67-fe9c341ed222",
   "metadata": {
    "tags": []
   },
   "outputs": [
    {
     "name": "stdout",
     "output_type": "stream",
     "text": [
      "462\n"
     ]
    }
   ],
   "source": [
    "import itertools\n",
    "\n",
    "# 데이터프레임의 열 목록\n",
    "columns = df.columns.tolist()\n",
    "\n",
    "# 5개의 열로 가능한 모든 조합 생성\n",
    "combinations = list(itertools.combinations(columns, 5))\n",
    "\n",
    "# 조합 개수 출력\n",
    "print(len(combinations))"
   ]
  },
  {
   "cell_type": "code",
   "execution_count": 30,
   "id": "7b34e971-ae85-49ce-bf8b-a4dd7e6b596a",
   "metadata": {
    "tags": []
   },
   "outputs": [],
   "source": [
    "combinations = [list(combo) for combo in combinations]"
   ]
  },
  {
   "cell_type": "code",
   "execution_count": 53,
   "id": "3d06b45b-cd49-4d48-9277-c289142d1b79",
   "metadata": {
    "tags": []
   },
   "outputs": [],
   "source": [
    "# combinations"
   ]
  },
  {
   "cell_type": "code",
   "execution_count": 31,
   "id": "d7c5c005-122f-4621-bb6f-36aebeacc02c",
   "metadata": {
    "tags": []
   },
   "outputs": [],
   "source": [
    "y = df[\"key2\"]\n",
    "le_y = preprocessing.LabelEncoder()\n",
    "y = le_y.fit_transform(y)"
   ]
  },
  {
   "cell_type": "code",
   "execution_count": 57,
   "id": "1749a1fd-c4be-4952-a5a4-3886ddaf2630",
   "metadata": {
    "tags": []
   },
   "outputs": [],
   "source": [
    "def making_X(combo):\n",
    "    le_x = preprocessing.LabelEncoder()\n",
    "    X = df[combo]\n",
    "    X = X.apply(le_x.fit_transform)\n",
    "    return X"
   ]
  },
  {
   "cell_type": "code",
   "execution_count": 50,
   "id": "8fe5b03a-3321-4279-bcb5-bf8777a40cbf",
   "metadata": {
    "tags": []
   },
   "outputs": [],
   "source": [
    "from sklearn.model_selection import train_test_split\n",
    "import xgboost as xgb\n",
    "from sklearn.metrics import accuracy_score, f1_score"
   ]
  },
  {
   "cell_type": "code",
   "execution_count": 62,
   "id": "c42397cc-c13f-4d51-9354-045bfd9dfbce",
   "metadata": {
    "tags": []
   },
   "outputs": [],
   "source": [
    "def train_model(combo, X,y):\n",
    "    X_train, X_test, y_train, y_test = train_test_split(X, y, test_size=0.2, random_state=42)\n",
    "    model = xgb.XGBClassifier(objective='multi:softmax', num_class=61)\n",
    "\n",
    "    # 모델 학습\n",
    "    model.fit(X_train, y_train)\n",
    "    # 예측 결과 출력\n",
    "    y_pred = model.predict(X_test)\n",
    "    # 리턴 값\n",
    "    accu_score =  accuracy_score(y_test, y_pred)\n",
    "    f1 = f1_score(y_test, y_pred, average='weighted')\n",
    "    return accu_score,f1"
   ]
  },
  {
   "cell_type": "code",
   "execution_count": 64,
   "id": "30275d40-6ff5-4417-a821-67c983c4562b",
   "metadata": {
    "tags": []
   },
   "outputs": [],
   "source": [
    "# combo = ['Machinery', 'Part No.1', 'Part No.2', 'D/T', 'Control No.']"
   ]
  },
  {
   "cell_type": "code",
   "execution_count": null,
   "id": "765a0e7e-edaf-40ff-a92f-802c04255aa0",
   "metadata": {},
   "outputs": [],
   "source": [
    "resultset = {}\n",
    "max_accu = 0\n",
    "max_f1=0\n",
    "for combo in combinations:\n",
    "    X = making_X(combo)\n",
    "    a, f1 = train_model(combo, X,y)\n",
    "    if a > max_accu:\n",
    "        max_accu = a\n",
    "        resultset['max_accu'] = max_accu\n",
    "        resultset['max_accu_combo'] = combo\n",
    "    if f1 > max_f1:\n",
    "        max_f1 = f1\n",
    "        resultset['max_f1'] = max_accu\n",
    "        resultset['max_f1_combo'] = combo\n",
    "    print('combo : ', combo)\n",
    "    print('accuracy_score : ' , a)\n",
    "    print('f1_score : ' , f1) \n",
    "    print('---------------------------')"
   ]
  },
  {
   "cell_type": "code",
   "execution_count": 63,
   "id": "78a823dc-872e-4d74-9b26-577cdee33faa",
   "metadata": {
    "tags": []
   },
   "outputs": [
    {
     "name": "stdout",
     "output_type": "stream",
     "text": [
      "accuracy_score :  0.7331871345029239\n",
      "f1_score :  0.7304564872165126\n",
      "---------------------------\n"
     ]
    }
   ],
   "source": [
    "# X = making_X(combo)\n",
    "# a, f1 = train_model(combo, X,y)\n",
    "# print('accuracy_score : ' , a)\n",
    "# print('f1_score : ' , f1) \n",
    "# print('---------------------------')"
   ]
  },
  {
   "cell_type": "code",
   "execution_count": 66,
   "id": "32d6d63b-705b-4bbf-a097-b3fd6b1eab24",
   "metadata": {
    "tags": []
   },
   "outputs": [
    {
     "name": "stdout",
     "output_type": "stream",
     "text": [
      "combo :  ['Machinery', 'Part No.1', 'Part No.2', 'D/T', 'Control No.']\n",
      "accuracy_score :  0.7331871345029239\n",
      "f1_score :  0.7304564872165126\n",
      "---------------------------\n"
     ]
    }
   ],
   "source": [
    "# resultset = {}\n",
    "# max_accu = 0\n",
    "# max_f1=0\n",
    "# X = making_X(combo)\n",
    "# a, f1 = train_model(combo, X,y)\n",
    "# if a > max_accu:\n",
    "#     max_accu = a\n",
    "#     resultset['max_accu'] = max_accu\n",
    "#     resultset['max_accu_combo'] = combo\n",
    "# if f1 > max_f1:\n",
    "#     max_f1 = f1\n",
    "#     resultset['max_f1'] = max_accu\n",
    "#     resultset['max_f1_combo'] = combo\n",
    "# print('combo : ', combo)\n",
    "# print('accuracy_score : ' , a)\n",
    "# print('f1_score : ' , f1) \n",
    "# print('---------------------------')"
   ]
  },
  {
   "cell_type": "code",
   "execution_count": 67,
   "id": "f9b32312-c88d-4393-974e-fb59d9d95d4f",
   "metadata": {
    "tags": []
   },
   "outputs": [
    {
     "data": {
      "text/plain": [
       "{'max_accu': 0.7331871345029239,\n",
       " 'max_accu_combo': ['Machinery',\n",
       "  'Part No.1',\n",
       "  'Part No.2',\n",
       "  'D/T',\n",
       "  'Control No.'],\n",
       " 'max_f1': 0.7331871345029239,\n",
       " 'max_f1_combo': ['Machinery', 'Part No.1', 'Part No.2', 'D/T', 'Control No.']}"
      ]
     },
     "execution_count": 67,
     "metadata": {},
     "output_type": "execute_result"
    }
   ],
   "source": [
    "resultset"
   ]
  },
  {
   "cell_type": "code",
   "execution_count": null,
   "id": "cce45e64-8448-4113-a7f2-826fd063a1d4",
   "metadata": {},
   "outputs": [],
   "source": []
  },
  {
   "cell_type": "code",
   "execution_count": null,
   "id": "88413c3b-0d55-4e72-8217-2df3f38c5504",
   "metadata": {},
   "outputs": [],
   "source": []
  },
  {
   "cell_type": "code",
   "execution_count": null,
   "id": "8d952a4b-bd53-4318-ae85-c0075df4888e",
   "metadata": {},
   "outputs": [],
   "source": []
  },
  {
   "cell_type": "code",
   "execution_count": null,
   "id": "1b9a82d8-9a06-45e2-882a-b2d045261927",
   "metadata": {},
   "outputs": [],
   "source": []
  }
 ],
 "metadata": {
  "kernelspec": {
   "display_name": "Python 3 (ipykernel)",
   "language": "python",
   "name": "python3"
  },
  "language_info": {
   "codemirror_mode": {
    "name": "ipython",
    "version": 3
   },
   "file_extension": ".py",
   "mimetype": "text/x-python",
   "name": "python",
   "nbconvert_exporter": "python",
   "pygments_lexer": "ipython3",
   "version": "3.10.10"
  }
 },
 "nbformat": 4,
 "nbformat_minor": 5
}
