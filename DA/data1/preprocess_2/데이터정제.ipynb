{
 "cells": [
  {
   "cell_type": "markdown",
   "metadata": {
    "id": "TCtsCC8eRzlO"
   },
   "source": [
    "데이터 불러오기"
   ]
  },
  {
   "cell_type": "code",
   "execution_count": null,
   "metadata": {
    "id": "lbqhjaes_BLH"
   },
   "outputs": [],
   "source": [
    "import pandas as pd\n",
    "data = pd.read_csv('/content/drive/MyDrive/동원산업통합_분류_1_RE.csv', encoding='cp949')"
   ]
  },
  {
   "cell_type": "code",
   "execution_count": null,
   "metadata": {
    "id": "gN4R12Cz7WYk"
   },
   "outputs": [],
   "source": [
    "data.info()"
   ]
  },
  {
   "cell_type": "code",
   "execution_count": null,
   "metadata": {
    "id": "6cdqo1K94Cvr"
   },
   "outputs": [],
   "source": [
    "data.count()"
   ]
  },
  {
   "cell_type": "markdown",
   "metadata": {
    "id": "U_giPU-dR4FI"
   },
   "source": [
    "결측치 0으로 대체"
   ]
  },
  {
   "cell_type": "code",
   "execution_count": null,
   "metadata": {
    "id": "_g6b5xfQLjat"
   },
   "outputs": [],
   "source": [
    "df = data.fillna(0)"
   ]
  },
  {
   "cell_type": "markdown",
   "metadata": {
    "id": "ujp6alZrSBK-"
   },
   "source": [
    "데이터 조회"
   ]
  },
  {
   "cell_type": "code",
   "execution_count": null,
   "metadata": {
    "id": "xGoOQwepWg7O"
   },
   "outputs": [],
   "source": [
    "# head\n",
    "df.head()"
   ]
  },
  {
   "cell_type": "code",
   "execution_count": null,
   "metadata": {
    "colab": {
     "base_uri": "https://localhost:8080/"
    },
    "id": "BBbQE6agMOkc",
    "outputId": "35328752-c8e3-4fbe-c54e-7bdf4d080b64"
   },
   "outputs": [
    {
     "data": {
      "text/plain": [
       "Index(['청구서번호', 'No.', 'Subject', 'Machinery', 'Assembly', '청구품목', 'Part No.1',\n",
       "       'Part No.2', 'key1', 'key2', '리드타임_음수제거', '청구량', '견적', '견적수량', '견적화폐',\n",
       "       '견적단가', '발주번호', '발주처', '발주', '발주수량', '발주금액', 'D/T', '미입고 기간', '리드타임',\n",
       "       '창고입고', '창고입고수량', 'Control No.', '입고창고', '창고출고', '창고출고수량', '출고선박',\n",
       "       '출고운반선', '선박입고', '선박입고수량', '완료 여부'],\n",
       "      dtype='object')"
      ]
     },
     "execution_count": 7,
     "metadata": {},
     "output_type": "execute_result"
    }
   ],
   "source": [
    "# column명\n",
    "df.columns"
   ]
  },
  {
   "cell_type": "code",
   "execution_count": null,
   "metadata": {
    "id": "-rkMOnhbV5TR"
   },
   "outputs": [],
   "source": [
    "# column별 정보\n",
    "df.info()"
   ]
  },
  {
   "cell_type": "code",
   "execution_count": null,
   "metadata": {
    "id": "aIfqVJGE7bq4"
   },
   "outputs": [],
   "source": [
    "df.count()"
   ]
  },
  {
   "cell_type": "markdown",
   "metadata": {
    "id": "eMN_g60BSVa1"
   },
   "source": [
    "데이터 타입 변경 및 데이터 전처리"
   ]
  },
  {
   "cell_type": "code",
   "execution_count": null,
   "metadata": {
    "id": "IpRU6BRce_Cm"
   },
   "outputs": [],
   "source": [
    "df['견적'] = pd.to_datetime(df['견적'])\n",
    "df['견적단가'] = df['견적단가'].astype('string')\n",
    "df['견적단가'] = df['견적단가'].str.replace('\"', '')\n",
    "df['견적단가'] = df['견적단가'].str.replace(',', '').astype('int64')\n",
    "df['발주'] = pd.to_datetime(df['발주'])\n",
    "df['발주금액'] = df['발주금액'].astype('string')\n",
    "df['발주금액'] = df['발주금액'].str.replace('\"', '')\n",
    "df['발주금액'] = df['발주금액'].str.replace(',', '').astype('int64')\n",
    "df['창고입고'] = pd.to_datetime(df['창고입고'])\n",
    "df['창고입고수량'] = pd.to_numeric(df['창고입고수량'])"
   ]
  },
  {
   "cell_type": "markdown",
   "metadata": {
    "id": "IiptnxixSgH0"
   },
   "source": [
    "데이터 정제"
   ]
  },
  {
   "cell_type": "code",
   "execution_count": null,
   "metadata": {
    "colab": {
     "base_uri": "https://localhost:8080/"
    },
    "id": "VlMdHMf3MzPt",
    "outputId": "66b7328c-3c0c-4583-c30a-6145cdc19ed9"
   },
   "outputs": [
    {
     "name": "stderr",
     "output_type": "stream",
     "text": [
      "<ipython-input-23-125a6446321d>:2: UserWarning: Boolean Series key will be reindexed to match DataFrame index.\n",
      "  df1 = df1[df['발주'] > '2000-01-01 00:00:00']\n",
      "<ipython-input-23-125a6446321d>:3: UserWarning: Boolean Series key will be reindexed to match DataFrame index.\n",
      "  df1 = df1[df['창고입고'] > '2000-01-01 00:00:00']\n"
     ]
    }
   ],
   "source": [
    "df1 = df[df['리드타임'] >= 0]\n",
    "df1 = df1[df['발주'] > '2000-01-01 00:00:00']\n",
    "df1 = df1[df['창고입고'] > '2000-01-01 00:00:00']"
   ]
  },
  {
   "cell_type": "markdown",
   "metadata": {
    "id": "IBMw5rXoSmWJ"
   },
   "source": [
    "데이터 저장"
   ]
  },
  {
   "cell_type": "code",
   "execution_count": null,
   "metadata": {
    "id": "z_OppfQ4eKtE"
   },
   "outputs": [],
   "source": [
    "df1.to_csv(\"/content/데이터_전처리_파일.csv\", encoding='cp949')"
   ]
  },
  {
   "cell_type": "code",
   "execution_count": null,
   "metadata": {
    "id": "tOK82G9rd1-i"
   },
   "outputs": [],
   "source": [
    "df1.info()"
   ]
  },
  {
   "cell_type": "code",
   "execution_count": null,
   "metadata": {
    "id": "yxk01fH27jfp"
   },
   "outputs": [],
   "source": [
    "df1.count()"
   ]
  }
 ],
 "metadata": {
  "colab": {
   "provenance": []
  },
  "kernelspec": {
   "display_name": "Python 3 (ipykernel)",
   "language": "python",
   "name": "python3"
  },
  "language_info": {
   "codemirror_mode": {
    "name": "ipython",
    "version": 3
   },
   "file_extension": ".py",
   "mimetype": "text/x-python",
   "name": "python",
   "nbconvert_exporter": "python",
   "pygments_lexer": "ipython3",
   "version": "3.10.10"
  }
 },
 "nbformat": 4,
 "nbformat_minor": 4
}
