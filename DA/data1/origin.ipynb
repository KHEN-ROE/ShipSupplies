{
 "cells": [
  {
   "cell_type": "code",
   "execution_count": 2,
   "id": "2e9b5a46-e9cc-4148-89ae-b71d80d430c9",
   "metadata": {
    "tags": []
   },
   "outputs": [
    {
     "data": {
      "text/plain": [
       "'2.0.1'"
      ]
     },
     "execution_count": 2,
     "metadata": {},
     "output_type": "execute_result"
    }
   ],
   "source": [
    "import pandas as pd\n",
    "import numpy as np\n",
    "import seaborn as sns\n",
    "pd.__version__"
   ]
  },
  {
   "cell_type": "code",
   "execution_count": 9,
   "id": "a56fe3d9-40fa-426d-854a-63a1f5bf29d9",
   "metadata": {
    "tags": []
   },
   "outputs": [
    {
     "name": "stdout",
     "output_type": "stream",
     "text": [
      "Collecting openpyxl\n",
      "  Downloading openpyxl-3.1.2-py2.py3-none-any.whl (249 kB)\n",
      "     -------------------------------------- 250.0/250.0 kB 5.1 MB/s eta 0:00:00\n",
      "Collecting et-xmlfile\n",
      "  Downloading et_xmlfile-1.1.0-py3-none-any.whl (4.7 kB)\n",
      "Installing collected packages: et-xmlfile, openpyxl\n",
      "Successfully installed et-xmlfile-1.1.0 openpyxl-3.1.2\n"
     ]
    },
    {
     "name": "stderr",
     "output_type": "stream",
     "text": [
      "\n",
      "[notice] A new release of pip available: 22.3.1 -> 23.1.2\n",
      "[notice] To update, run: python.exe -m pip install --upgrade pip\n"
     ]
    }
   ],
   "source": [
    "# !pip install xlrd\n",
    "!pip install openpyxl"
   ]
  },
  {
   "cell_type": "code",
   "execution_count": 3,
   "id": "b1c4dd5a-9754-4b4f-8cca-f252a631c5d8",
   "metadata": {
    "tags": []
   },
   "outputs": [
    {
     "ename": "ModuleNotFoundError",
     "evalue": "No module named 'warning'",
     "output_type": "error",
     "traceback": [
      "\u001b[1;31m---------------------------------------------------------------------------\u001b[0m",
      "\u001b[1;31mModuleNotFoundError\u001b[0m                       Traceback (most recent call last)",
      "Cell \u001b[1;32mIn[3], line 1\u001b[0m\n\u001b[1;32m----> 1\u001b[0m \u001b[38;5;28;01mimport\u001b[39;00m \u001b[38;5;21;01mwarning\u001b[39;00m\n\u001b[0;32m      3\u001b[0m warning\u001b[38;5;241m.\u001b[39msimplefilter(\u001b[38;5;124m'\u001b[39m\u001b[38;5;124mignore\u001b[39m\u001b[38;5;124m'\u001b[39m)\n",
      "\u001b[1;31mModuleNotFoundError\u001b[0m: No module named 'warning'"
     ]
    }
   ],
   "source": [
    "import warning\n",
    "\n",
    "warning.simplefilter('ignore')"
   ]
  },
  {
   "cell_type": "code",
   "execution_count": 8,
   "id": "a58037b8-a7ed-4816-b8ce-58eb2d4c7896",
   "metadata": {
    "tags": []
   },
   "outputs": [
    {
     "name": "stderr",
     "output_type": "stream",
     "text": [
      "C:\\workspace\\ShipSupplies\\venv\\lib\\site-packages\\openpyxl\\styles\\stylesheet.py:226: UserWarning: Workbook contains no default style, apply openpyxl's default\n",
      "  warn(\"Workbook contains no default style, apply openpyxl's default\")\n",
      "C:\\workspace\\ShipSupplies\\venv\\lib\\site-packages\\openpyxl\\styles\\stylesheet.py:226: UserWarning: Workbook contains no default style, apply openpyxl's default\n",
      "  warn(\"Workbook contains no default style, apply openpyxl's default\")\n"
     ]
    }
   ],
   "source": [
    "df1 = pd.read_excel('./origin/동원산업 발주내역_2019년.xlsx', header =2)\n",
    "df2 = pd.read_excel('./origin/동원산업 발주내역_2020년.xlsx',  header =2)\n",
    "df3 = pd.read_excel('./origin/동원산업 발주내역_2020년 10월 ~ 21.09.30.xlsx',  header =2)\n"
   ]
  },
  {
   "cell_type": "code",
   "execution_count": 39,
   "id": "7a8cfabe-0afd-4995-9d6c-0729887fe899",
   "metadata": {
    "tags": []
   },
   "outputs": [
    {
     "data": {
      "text/plain": [
       "<bound method NDFrame._add_numeric_operations.<locals>.any of 0       True\n",
       "1       True\n",
       "2       True\n",
       "3       True\n",
       "4       True\n",
       "        ... \n",
       "9211    True\n",
       "9212    True\n",
       "9213    True\n",
       "9214    True\n",
       "9215    True\n",
       "Name: Unnamed: 6, Length: 9216, dtype: bool>"
      ]
     },
     "execution_count": 39,
     "metadata": {},
     "output_type": "execute_result"
    }
   ],
   "source": [
    "# df1.head()\n",
    "# df1[df1['Unnamed: 6'].isna().any(axis=1)] # 모든 행이 결측일 경우 검색\n",
    "df1['Unnamed: 6'].isna().any\n"
   ]
  },
  {
   "cell_type": "code",
   "execution_count": 43,
   "id": "d11e3648-0ccd-45db-b12c-389dcba4476f",
   "metadata": {
    "tags": []
   },
   "outputs": [
    {
     "data": {
      "text/plain": [
       "Index(['청구서번호', 'No.', 'Subject', 'Machinery', 'Assembly', '청구품목',\n",
       "       'Unnamed: 6', 'Part No.1', 'Part No.2', '청구량', '견적', 'Unnamed: 11',\n",
       "       '견적수량', '견적화폐', '견적단가', '발주번호', '발주처', '발주', '발주수량', '발주금액', 'D/T',\n",
       "       '미입고 기간', '창고입고', '창고입고수량', 'Control No.', '입고창고', '창고출고', '창고출고수량',\n",
       "       '출고선박', '출고운반선', '선박입고', '선박입고수량', '완료 여부'],\n",
       "      dtype='object')"
      ]
     },
     "execution_count": 43,
     "metadata": {},
     "output_type": "execute_result"
    }
   ],
   "source": [
    "df1.columns"
   ]
  },
  {
   "cell_type": "code",
   "execution_count": 45,
   "id": "0967ba34-aee0-472f-b37c-cd6062542dba",
   "metadata": {
    "tags": []
   },
   "outputs": [
    {
     "data": {
      "text/plain": [
       "Index(['청구서번호', 'No.', 'Subject', 'Machinery', 'Assembly', '청구품목',\n",
       "       'Unnamed: 6', 'Part No.1', 'Part No.2', '청구량', '견적', 'Unnamed: 11',\n",
       "       '견적수량', '견적화폐', '견적단가', '발주번호', '발주처', '발주', '발주수량', '발주금액', 'D/T',\n",
       "       '미입고 기간', '창고입고', '창고입고수량', 'Control No.', '입고창고', '창고출고', '창고출고수량',\n",
       "       '출고선박', '출고운반선', '선박입고', '선박입고수량', '완료 여부'],\n",
       "      dtype='object')"
      ]
     },
     "execution_count": 45,
     "metadata": {},
     "output_type": "execute_result"
    }
   ],
   "source": [
    "df2.columns"
   ]
  },
  {
   "cell_type": "code",
   "execution_count": 44,
   "id": "8e3c406e-a06e-4c5c-9498-f1d5c2d87bcf",
   "metadata": {
    "tags": []
   },
   "outputs": [
    {
     "data": {
      "text/plain": [
       "Index(['청구서번호', 'No.', 'Subject', 'Machinery', 'Assembly', '청구품목',\n",
       "       'Unnamed: 6', 'Part No.1', 'Part No.2', '청구량', '견적', '견적수량',\n",
       "       'Unnamed: 12', '견적화폐', '견적단가', '발주번호', '발주처', '발주', '발주수량', '발주금액',\n",
       "       'D/T', '미입고 기간', '창고입고', '창고입고수량', 'Control No.', '입고창고', '창고출고',\n",
       "       '창고출고수량', '출고선박', '출고운반선', '선박입고', '선박입고수량', '완료 여부'],\n",
       "      dtype='object')"
      ]
     },
     "execution_count": 44,
     "metadata": {},
     "output_type": "execute_result"
    }
   ],
   "source": [
    "df3.columns"
   ]
  },
  {
   "cell_type": "code",
   "execution_count": 9,
   "id": "4079e9f1-426a-4ffe-8d1d-b0ff09916146",
   "metadata": {
    "tags": []
   },
   "outputs": [
    {
     "data": {
      "text/html": [
       "<div>\n",
       "<style scoped>\n",
       "    .dataframe tbody tr th:only-of-type {\n",
       "        vertical-align: middle;\n",
       "    }\n",
       "\n",
       "    .dataframe tbody tr th {\n",
       "        vertical-align: top;\n",
       "    }\n",
       "\n",
       "    .dataframe thead th {\n",
       "        text-align: right;\n",
       "    }\n",
       "</style>\n",
       "<table border=\"1\" class=\"dataframe\">\n",
       "  <thead>\n",
       "    <tr style=\"text-align: right;\">\n",
       "      <th></th>\n",
       "      <th>청구서번호</th>\n",
       "      <th>No.</th>\n",
       "      <th>Subject</th>\n",
       "      <th>Machinery</th>\n",
       "      <th>Assembly</th>\n",
       "      <th>청구품목</th>\n",
       "      <th>Unnamed: 6</th>\n",
       "      <th>Part No.1</th>\n",
       "      <th>Part No.2</th>\n",
       "      <th>청구량</th>\n",
       "      <th>...</th>\n",
       "      <th>창고입고수량</th>\n",
       "      <th>Control No.</th>\n",
       "      <th>입고창고</th>\n",
       "      <th>창고출고</th>\n",
       "      <th>창고출고수량</th>\n",
       "      <th>출고선박</th>\n",
       "      <th>출고운반선</th>\n",
       "      <th>선박입고</th>\n",
       "      <th>선박입고수량</th>\n",
       "      <th>완료 여부</th>\n",
       "    </tr>\n",
       "  </thead>\n",
       "  <tbody>\n",
       "    <tr>\n",
       "      <th>0</th>\n",
       "      <td>COK-BS-DSP-2007008</td>\n",
       "      <td>1.0</td>\n",
       "      <td>구평창고 재고등록</td>\n",
       "      <td>MAIN BOOM DOUBLE WINCH</td>\n",
       "      <td>BRAKE GROUP</td>\n",
       "      <td>LOOSE ROLLER 5/32 X 1.25 TORRINGTON # E151 - Q</td>\n",
       "      <td>NaN</td>\n",
       "      <td>25270</td>\n",
       "      <td>NaN</td>\n",
       "      <td>308.0</td>\n",
       "      <td>...</td>\n",
       "      <td>308.0</td>\n",
       "      <td>NaN</td>\n",
       "      <td>BS</td>\n",
       "      <td>NaN</td>\n",
       "      <td>0.0</td>\n",
       "      <td>NaN</td>\n",
       "      <td>NaN</td>\n",
       "      <td>NaN</td>\n",
       "      <td>0.0</td>\n",
       "      <td>NaN</td>\n",
       "    </tr>\n",
       "    <tr>\n",
       "      <th>1</th>\n",
       "      <td>COK-BS-DSP-2007008</td>\n",
       "      <td>2.0</td>\n",
       "      <td>구평창고 재고등록</td>\n",
       "      <td>PORT BOOM CARGO WINCH</td>\n",
       "      <td>FINAL DRIVE GROUP</td>\n",
       "      <td>NEEDLE BEARING TORRINGTON # BH1620</td>\n",
       "      <td>NaN</td>\n",
       "      <td>25097</td>\n",
       "      <td>NaN</td>\n",
       "      <td>15.0</td>\n",
       "      <td>...</td>\n",
       "      <td>15.0</td>\n",
       "      <td>NaN</td>\n",
       "      <td>BS</td>\n",
       "      <td>NaN</td>\n",
       "      <td>0.0</td>\n",
       "      <td>NaN</td>\n",
       "      <td>NaN</td>\n",
       "      <td>NaN</td>\n",
       "      <td>0.0</td>\n",
       "      <td>NaN</td>\n",
       "    </tr>\n",
       "    <tr>\n",
       "      <th>2</th>\n",
       "      <td>COK-BS-DSP-2007008</td>\n",
       "      <td>3.0</td>\n",
       "      <td>구평창고 재고등록</td>\n",
       "      <td>AFT NET BOAT DAVIT WINCH</td>\n",
       "      <td>FINAL DRIVE GROUP</td>\n",
       "      <td>NEEDLE BEARING TORRINGTON #B1418</td>\n",
       "      <td>NaN</td>\n",
       "      <td>25168</td>\n",
       "      <td>NaN</td>\n",
       "      <td>15.0</td>\n",
       "      <td>...</td>\n",
       "      <td>15.0</td>\n",
       "      <td>NaN</td>\n",
       "      <td>BS</td>\n",
       "      <td>NaN</td>\n",
       "      <td>0.0</td>\n",
       "      <td>NaN</td>\n",
       "      <td>NaN</td>\n",
       "      <td>NaN</td>\n",
       "      <td>0.0</td>\n",
       "      <td>NaN</td>\n",
       "    </tr>\n",
       "    <tr>\n",
       "      <th>3</th>\n",
       "      <td>COK-BS-DSP-2007008</td>\n",
       "      <td>4.0</td>\n",
       "      <td>구평창고 재고등록</td>\n",
       "      <td>PORT BOOM CARGO WINCH</td>\n",
       "      <td>BRAKE GROUP</td>\n",
       "      <td>NEEDLE BEARING TORRINGTON # BH 1016</td>\n",
       "      <td>NaN</td>\n",
       "      <td>25269</td>\n",
       "      <td>NaN</td>\n",
       "      <td>30.0</td>\n",
       "      <td>...</td>\n",
       "      <td>30.0</td>\n",
       "      <td>NaN</td>\n",
       "      <td>BS</td>\n",
       "      <td>NaN</td>\n",
       "      <td>0.0</td>\n",
       "      <td>NaN</td>\n",
       "      <td>NaN</td>\n",
       "      <td>NaN</td>\n",
       "      <td>0.0</td>\n",
       "      <td>NaN</td>\n",
       "    </tr>\n",
       "    <tr>\n",
       "      <th>4</th>\n",
       "      <td>COK-BS-DSP-2007008</td>\n",
       "      <td>5.0</td>\n",
       "      <td>구평창고 재고등록</td>\n",
       "      <td>PORT BOOM CARGO WINCH</td>\n",
       "      <td>BRAKE GROUP</td>\n",
       "      <td>NEEDLE BEARING TORRINGTON #B2012</td>\n",
       "      <td>NaN</td>\n",
       "      <td>25232</td>\n",
       "      <td>NaN</td>\n",
       "      <td>9.0</td>\n",
       "      <td>...</td>\n",
       "      <td>9.0</td>\n",
       "      <td>NaN</td>\n",
       "      <td>BS</td>\n",
       "      <td>NaN</td>\n",
       "      <td>0.0</td>\n",
       "      <td>NaN</td>\n",
       "      <td>NaN</td>\n",
       "      <td>NaN</td>\n",
       "      <td>0.0</td>\n",
       "      <td>NaN</td>\n",
       "    </tr>\n",
       "  </tbody>\n",
       "</table>\n",
       "<p>5 rows × 33 columns</p>\n",
       "</div>"
      ],
      "text/plain": [
       "                청구서번호  No.    Subject                  Machinery   \n",
       "0  COK-BS-DSP-2007008  1.0  구평창고 재고등록     MAIN BOOM DOUBLE WINCH  \\\n",
       "1  COK-BS-DSP-2007008  2.0  구평창고 재고등록     PORT BOOM CARGO WINCH    \n",
       "2  COK-BS-DSP-2007008  3.0  구평창고 재고등록  AFT NET BOAT DAVIT WINCH    \n",
       "3  COK-BS-DSP-2007008  4.0  구평창고 재고등록     PORT BOOM CARGO WINCH    \n",
       "4  COK-BS-DSP-2007008  5.0  구평창고 재고등록     PORT BOOM CARGO WINCH    \n",
       "\n",
       "            Assembly                                            청구품목   \n",
       "0        BRAKE GROUP  LOOSE ROLLER 5/32 X 1.25 TORRINGTON # E151 - Q  \\\n",
       "1  FINAL DRIVE GROUP              NEEDLE BEARING TORRINGTON # BH1620   \n",
       "2  FINAL DRIVE GROUP                NEEDLE BEARING TORRINGTON #B1418   \n",
       "3        BRAKE GROUP             NEEDLE BEARING TORRINGTON # BH 1016   \n",
       "4        BRAKE GROUP                NEEDLE BEARING TORRINGTON #B2012   \n",
       "\n",
       "   Unnamed: 6 Part No.1 Part No.2    청구량  ... 창고입고수량  Control No.  입고창고 창고출고   \n",
       "0         NaN     25270       NaN  308.0  ...  308.0          NaN    BS  NaN  \\\n",
       "1         NaN     25097       NaN   15.0  ...   15.0          NaN    BS  NaN   \n",
       "2         NaN     25168       NaN   15.0  ...   15.0          NaN    BS  NaN   \n",
       "3         NaN     25269       NaN   30.0  ...   30.0          NaN    BS  NaN   \n",
       "4         NaN     25232       NaN    9.0  ...    9.0          NaN    BS  NaN   \n",
       "\n",
       "   창고출고수량 출고선박 출고운반선 선박입고  선박입고수량  완료 여부  \n",
       "0     0.0  NaN   NaN  NaN     0.0    NaN  \n",
       "1     0.0  NaN   NaN  NaN     0.0    NaN  \n",
       "2     0.0  NaN   NaN  NaN     0.0    NaN  \n",
       "3     0.0  NaN   NaN  NaN     0.0    NaN  \n",
       "4     0.0  NaN   NaN  NaN     0.0    NaN  \n",
       "\n",
       "[5 rows x 33 columns]"
      ]
     },
     "execution_count": 9,
     "metadata": {},
     "output_type": "execute_result"
    }
   ],
   "source": [
    "df2.head()"
   ]
  },
  {
   "cell_type": "code",
   "execution_count": 13,
   "id": "1ed7f06e-4a28-43ca-a982-53653c81b738",
   "metadata": {
    "tags": []
   },
   "outputs": [
    {
     "data": {
      "text/plain": [
       "Index(['청구서번호', 'No.', 'Subject', 'Machinery', 'Assembly', '청구품목',\n",
       "       'Unnamed: 6', 'Part No.1', 'Part No.2', '청구량', '견적', 'Unnamed: 11',\n",
       "       '견적수량', '견적화폐', '견적단가', '발주번호', '발주처', '발주', '발주수량', '발주금액', 'D/T',\n",
       "       '미입고 기간', '창고입고', '창고입고수량', 'Control No.', '입고창고', '창고출고', '창고출고수량',\n",
       "       '출고선박', '출고운반선', '선박입고', '선박입고수량', '완료 여부'],\n",
       "      dtype='object')"
      ]
     },
     "execution_count": 13,
     "metadata": {},
     "output_type": "execute_result"
    }
   ],
   "source": [
    "df1.columns"
   ]
  },
  {
   "cell_type": "code",
   "execution_count": 15,
   "id": "61e8c736-baa7-4717-b6ae-fd1e28c38b37",
   "metadata": {
    "tags": []
   },
   "outputs": [
    {
     "data": {
      "text/plain": [
       "<bound method Series.count of 0       True\n",
       "1       True\n",
       "2       True\n",
       "3       True\n",
       "4       True\n",
       "        ... \n",
       "7740    True\n",
       "7741    True\n",
       "7742    True\n",
       "7743    True\n",
       "7744    True\n",
       "Name: Unnamed: 6, Length: 7745, dtype: bool>"
      ]
     },
     "execution_count": 15,
     "metadata": {},
     "output_type": "execute_result"
    }
   ],
   "source": [
    "df3['Unnamed: 6'].isna().count"
   ]
  },
  {
   "cell_type": "code",
   "execution_count": null,
   "id": "360ae4ee-ad6f-4321-95c1-67576d0d08be",
   "metadata": {},
   "outputs": [],
   "source": []
  },
  {
   "cell_type": "code",
   "execution_count": null,
   "id": "a3d7f117-4af6-44f6-aab5-d2aa6d053118",
   "metadata": {},
   "outputs": [],
   "source": []
  },
  {
   "cell_type": "code",
   "execution_count": 11,
   "id": "122b5c62-f59e-4d30-ac1b-47ac96819b83",
   "metadata": {
    "tags": []
   },
   "outputs": [
    {
     "data": {
      "text/plain": [
       "Index(['청구서번호', 'No.', 'Subject', 'Machinery', 'Assembly', '청구품목',\n",
       "       'Unnamed: 6', 'Part No.1', 'Part No.2', '청구량', '견적', 'Unnamed: 11',\n",
       "       '견적수량', '견적화폐', '견적단가', '발주번호', '발주처', '발주', '발주수량', '발주금액', 'D/T',\n",
       "       '미입고 기간', '창고입고', '창고입고수량', 'Control No.', '입고창고', '창고출고', '창고출고수량',\n",
       "       '출고선박', '출고운반선', '선박입고', '선박입고수량', '완료 여부'],\n",
       "      dtype='object')"
      ]
     },
     "execution_count": 11,
     "metadata": {},
     "output_type": "execute_result"
    }
   ],
   "source": [
    "df.columns"
   ]
  },
  {
   "cell_type": "code",
   "execution_count": 12,
   "id": "c5c59f88-83bd-426e-b9c4-8bf7372d40d8",
   "metadata": {
    "tags": []
   },
   "outputs": [
    {
     "data": {
      "text/plain": [
       "청구서번호           object\n",
       "No.              int64\n",
       "Subject         object\n",
       "Machinery       object\n",
       "Assembly        object\n",
       "청구품목            object\n",
       "Unnamed: 6     float64\n",
       "Part No.1       object\n",
       "Part No.2       object\n",
       "청구량            float64\n",
       "견적              object\n",
       "Unnamed: 11    float64\n",
       "견적수량           float64\n",
       "견적화폐            object\n",
       "견적단가           float64\n",
       "발주번호            object\n",
       "발주처             object\n",
       "발주              object\n",
       "발주수량           float64\n",
       "발주금액           float64\n",
       "D/T             object\n",
       "미입고 기간          object\n",
       "창고입고            object\n",
       "창고입고수량           int64\n",
       "Control No.     object\n",
       "입고창고            object\n",
       "창고출고            object\n",
       "창고출고수량           int64\n",
       "출고선박            object\n",
       "출고운반선           object\n",
       "선박입고            object\n",
       "선박입고수량           int64\n",
       "완료 여부           object\n",
       "dtype: object"
      ]
     },
     "execution_count": 12,
     "metadata": {},
     "output_type": "execute_result"
    }
   ],
   "source": [
    "df.dtypes"
   ]
  },
  {
   "cell_type": "code",
   "execution_count": 15,
   "id": "845e24b3-852b-4d5e-aa9a-048de0b9499e",
   "metadata": {
    "tags": []
   },
   "outputs": [
    {
     "data": {
      "text/plain": [
       "24659   NaN\n",
       "24660   NaN\n",
       "24661   NaN\n",
       "24662   NaN\n",
       "24663   NaN\n",
       "Name: 견적수량, dtype: float64"
      ]
     },
     "execution_count": 15,
     "metadata": {},
     "output_type": "execute_result"
    }
   ],
   "source": [
    "df['견적수량'].tail()"
   ]
  },
  {
   "cell_type": "code",
   "execution_count": 7,
   "id": "8a494b4b-4991-4ce7-8151-c156f3d5f6fe",
   "metadata": {},
   "outputs": [
    {
     "data": {
      "text/plain": [
       "dtype('float64')"
      ]
     },
     "execution_count": 7,
     "metadata": {},
     "output_type": "execute_result"
    }
   ],
   "source": [
    "df['선박입고수량'].dtype"
   ]
  },
  {
   "cell_type": "code",
   "execution_count": 8,
   "id": "9e175b09-8a25-4851-985e-73b448d5a87e",
   "metadata": {},
   "outputs": [
    {
     "data": {
      "text/html": [
       "<div>\n",
       "<style scoped>\n",
       "    .dataframe tbody tr th:only-of-type {\n",
       "        vertical-align: middle;\n",
       "    }\n",
       "\n",
       "    .dataframe tbody tr th {\n",
       "        vertical-align: top;\n",
       "    }\n",
       "\n",
       "    .dataframe thead th {\n",
       "        text-align: right;\n",
       "    }\n",
       "</style>\n",
       "<table border=\"1\" class=\"dataframe\">\n",
       "  <thead>\n",
       "    <tr style=\"text-align: right;\">\n",
       "      <th></th>\n",
       "      <th>청구서번호</th>\n",
       "      <th>No.</th>\n",
       "      <th>Subject</th>\n",
       "      <th>Machinery</th>\n",
       "      <th>Assembly</th>\n",
       "      <th>청구품목</th>\n",
       "      <th>Unnamed: 6</th>\n",
       "      <th>Part No.1</th>\n",
       "      <th>Part No.2</th>\n",
       "      <th>청구량</th>\n",
       "      <th>...</th>\n",
       "      <th>창고입고수량</th>\n",
       "      <th>Control No.</th>\n",
       "      <th>입고창고</th>\n",
       "      <th>창고출고</th>\n",
       "      <th>창고출고수량</th>\n",
       "      <th>출고선박</th>\n",
       "      <th>출고운반선</th>\n",
       "      <th>선박입고</th>\n",
       "      <th>선박입고수량</th>\n",
       "      <th>완료 여부</th>\n",
       "    </tr>\n",
       "  </thead>\n",
       "  <tbody>\n",
       "    <tr>\n",
       "      <th>0</th>\n",
       "      <td>COK-BS-DSP-1901004</td>\n",
       "      <td>1.0</td>\n",
       "      <td>COK-F-DECK-190104-01</td>\n",
       "      <td>CARGO BOOM VANG BLOCK (STBD 하)</td>\n",
       "      <td>BLOCK</td>\n",
       "      <td>MCKISSICK CONSTRUCTION BLOCKS (WIRE SIZE : 5/8\")</td>\n",
       "      <td>NaN</td>\n",
       "      <td>C15S10BS</td>\n",
       "      <td>2103170</td>\n",
       "      <td>2.0</td>\n",
       "      <td>...</td>\n",
       "      <td>2.0</td>\n",
       "      <td>19-04-077</td>\n",
       "      <td>BW</td>\n",
       "      <td>2019-05-20</td>\n",
       "      <td>2.0</td>\n",
       "      <td>COK</td>\n",
       "      <td>ONENESS</td>\n",
       "      <td>2019-06-09</td>\n",
       "      <td>2.0</td>\n",
       "      <td>완료</td>\n",
       "    </tr>\n",
       "    <tr>\n",
       "      <th>1</th>\n",
       "      <td>COK-BS-DSP-1901004</td>\n",
       "      <td>2.0</td>\n",
       "      <td>COK-F-DECK-190104-01</td>\n",
       "      <td>SPANISH BOOM VANG BLOCK (PORT 상)</td>\n",
       "      <td>BLOCK</td>\n",
       "      <td>MCKISSICK CONSTRUCTION BLOCKS (WIRE SIZE : 5/8\")</td>\n",
       "      <td>NaN</td>\n",
       "      <td>C15D10BS</td>\n",
       "      <td>2103180</td>\n",
       "      <td>1.0</td>\n",
       "      <td>...</td>\n",
       "      <td>1.0</td>\n",
       "      <td>19-04-064</td>\n",
       "      <td>BW</td>\n",
       "      <td>2019-05-20</td>\n",
       "      <td>1.0</td>\n",
       "      <td>COK</td>\n",
       "      <td>ONENESS편 탁송</td>\n",
       "      <td>2019-06-09</td>\n",
       "      <td>1.0</td>\n",
       "      <td>완료</td>\n",
       "    </tr>\n",
       "    <tr>\n",
       "      <th>2</th>\n",
       "      <td>COK-BS-DSP-1901004</td>\n",
       "      <td>3.0</td>\n",
       "      <td>COK-F-DECK-190104-01</td>\n",
       "      <td>PURSE BLOCK</td>\n",
       "      <td>TOW BLOCK</td>\n",
       "      <td>WESTEC 20TON TOW BLOCK</td>\n",
       "      <td>NaN</td>\n",
       "      <td>WESTEC 20TON TOW BLOCK</td>\n",
       "      <td>NaN</td>\n",
       "      <td>1.0</td>\n",
       "      <td>...</td>\n",
       "      <td>1.0</td>\n",
       "      <td>19-04-077</td>\n",
       "      <td>BW</td>\n",
       "      <td>2019-05-20</td>\n",
       "      <td>1.0</td>\n",
       "      <td>COK</td>\n",
       "      <td>ONENESS</td>\n",
       "      <td>2019-06-09</td>\n",
       "      <td>1.0</td>\n",
       "      <td>완료</td>\n",
       "    </tr>\n",
       "    <tr>\n",
       "      <th>3</th>\n",
       "      <td>COK-BS-DSP-1905036</td>\n",
       "      <td>1.0</td>\n",
       "      <td>폰페이 재고정정</td>\n",
       "      <td>MAIN ENGINE</td>\n",
       "      <td>POWER PACK AS</td>\n",
       "      <td>GE POWER PACK FORK - E7(B)</td>\n",
       "      <td>NaN</td>\n",
       "      <td>40028340</td>\n",
       "      <td>NaN</td>\n",
       "      <td>8.0</td>\n",
       "      <td>...</td>\n",
       "      <td>8.0</td>\n",
       "      <td>NaN</td>\n",
       "      <td>PN</td>\n",
       "      <td>2019-08-01</td>\n",
       "      <td>1.0</td>\n",
       "      <td>DEO</td>\n",
       "      <td>HANARO</td>\n",
       "      <td>2019-08-24</td>\n",
       "      <td>1.0</td>\n",
       "      <td>완료</td>\n",
       "    </tr>\n",
       "    <tr>\n",
       "      <th>4</th>\n",
       "      <td>COK-BS-DSP-1905036</td>\n",
       "      <td>2.0</td>\n",
       "      <td>폰페이 재고정정</td>\n",
       "      <td>MAIN ENGINE</td>\n",
       "      <td>POWER PACK AS</td>\n",
       "      <td>GE POWER PACK FORK - E7(B)</td>\n",
       "      <td>NaN</td>\n",
       "      <td>40028340</td>\n",
       "      <td>NaN</td>\n",
       "      <td>8.0</td>\n",
       "      <td>...</td>\n",
       "      <td>8.0</td>\n",
       "      <td>NaN</td>\n",
       "      <td>PN</td>\n",
       "      <td>2019-08-29</td>\n",
       "      <td>7.0</td>\n",
       "      <td>ELS</td>\n",
       "      <td>SL ARCHI</td>\n",
       "      <td>2019-09-30</td>\n",
       "      <td>7.0</td>\n",
       "      <td>완료</td>\n",
       "    </tr>\n",
       "  </tbody>\n",
       "</table>\n",
       "<p>5 rows × 33 columns</p>\n",
       "</div>"
      ],
      "text/plain": [
       "                청구서번호  No.               Subject   \n",
       "0  COK-BS-DSP-1901004  1.0  COK-F-DECK-190104-01  \\\n",
       "1  COK-BS-DSP-1901004  2.0  COK-F-DECK-190104-01   \n",
       "2  COK-BS-DSP-1901004  3.0  COK-F-DECK-190104-01   \n",
       "3  COK-BS-DSP-1905036  1.0              폰페이 재고정정   \n",
       "4  COK-BS-DSP-1905036  2.0              폰페이 재고정정   \n",
       "\n",
       "                          Machinery       Assembly   \n",
       "0    CARGO BOOM VANG BLOCK (STBD 하)          BLOCK  \\\n",
       "1  SPANISH BOOM VANG BLOCK (PORT 상)          BLOCK   \n",
       "2                       PURSE BLOCK      TOW BLOCK   \n",
       "3                       MAIN ENGINE  POWER PACK AS   \n",
       "4                       MAIN ENGINE  POWER PACK AS   \n",
       "\n",
       "                                               청구품목  Unnamed: 6   \n",
       "0  MCKISSICK CONSTRUCTION BLOCKS (WIRE SIZE : 5/8\")         NaN  \\\n",
       "1  MCKISSICK CONSTRUCTION BLOCKS (WIRE SIZE : 5/8\")         NaN   \n",
       "2                            WESTEC 20TON TOW BLOCK         NaN   \n",
       "3                        GE POWER PACK FORK - E7(B)         NaN   \n",
       "4                        GE POWER PACK FORK - E7(B)         NaN   \n",
       "\n",
       "                Part No.1 Part No.2  청구량  ... 창고입고수량  Control No.  입고창고   \n",
       "0                C15S10BS   2103170  2.0  ...    2.0    19-04-077    BW  \\\n",
       "1                C15D10BS   2103180  1.0  ...    1.0    19-04-064    BW   \n",
       "2  WESTEC 20TON TOW BLOCK       NaN  1.0  ...    1.0    19-04-077    BW   \n",
       "3                40028340       NaN  8.0  ...    8.0          NaN    PN   \n",
       "4                40028340       NaN  8.0  ...    8.0          NaN    PN   \n",
       "\n",
       "         창고출고  창고출고수량 출고선박        출고운반선        선박입고  선박입고수량  완료 여부  \n",
       "0  2019-05-20     2.0  COK      ONENESS  2019-06-09     2.0     완료  \n",
       "1  2019-05-20     1.0  COK  ONENESS편 탁송  2019-06-09     1.0     완료  \n",
       "2  2019-05-20     1.0  COK      ONENESS  2019-06-09     1.0     완료  \n",
       "3  2019-08-01     1.0  DEO       HANARO  2019-08-24     1.0     완료  \n",
       "4  2019-08-29     7.0  ELS     SL ARCHI  2019-09-30     7.0     완료  \n",
       "\n",
       "[5 rows x 33 columns]"
      ]
     },
     "execution_count": 8,
     "metadata": {},
     "output_type": "execute_result"
    }
   ],
   "source": [
    "df['발주'] = pd.to_datetime(df['발주'], format='%Y-%m-%d')\n",
    "df['창고입고'] = pd.to_datetime(df['창고입고'], format='%Y-%m-%d')\n",
    "df.head()"
   ]
  },
  {
   "cell_type": "code",
   "execution_count": 12,
   "id": "382f2b00-6cdd-4a1c-97b4-2294f0f76b7a",
   "metadata": {},
   "outputs": [
    {
     "data": {
      "text/html": [
       "<div>\n",
       "<style scoped>\n",
       "    .dataframe tbody tr th:only-of-type {\n",
       "        vertical-align: middle;\n",
       "    }\n",
       "\n",
       "    .dataframe tbody tr th {\n",
       "        vertical-align: top;\n",
       "    }\n",
       "\n",
       "    .dataframe thead th {\n",
       "        text-align: right;\n",
       "    }\n",
       "</style>\n",
       "<table border=\"1\" class=\"dataframe\">\n",
       "  <thead>\n",
       "    <tr style=\"text-align: right;\">\n",
       "      <th></th>\n",
       "      <th>청구서번호</th>\n",
       "      <th>No.</th>\n",
       "      <th>Subject</th>\n",
       "      <th>Machinery</th>\n",
       "      <th>Assembly</th>\n",
       "      <th>청구품목</th>\n",
       "      <th>Unnamed: 6</th>\n",
       "      <th>Part No.1</th>\n",
       "      <th>Part No.2</th>\n",
       "      <th>청구량</th>\n",
       "      <th>...</th>\n",
       "      <th>Control No.</th>\n",
       "      <th>입고창고</th>\n",
       "      <th>창고출고</th>\n",
       "      <th>창고출고수량</th>\n",
       "      <th>출고선박</th>\n",
       "      <th>출고운반선</th>\n",
       "      <th>선박입고</th>\n",
       "      <th>선박입고수량</th>\n",
       "      <th>완료 여부</th>\n",
       "      <th>소요시간</th>\n",
       "    </tr>\n",
       "  </thead>\n",
       "  <tbody>\n",
       "    <tr>\n",
       "      <th>0</th>\n",
       "      <td>COK-BS-DSP-1901004</td>\n",
       "      <td>1.0</td>\n",
       "      <td>COK-F-DECK-190104-01</td>\n",
       "      <td>CARGO BOOM VANG BLOCK (STBD 하)</td>\n",
       "      <td>BLOCK</td>\n",
       "      <td>MCKISSICK CONSTRUCTION BLOCKS (WIRE SIZE : 5/8\")</td>\n",
       "      <td>NaN</td>\n",
       "      <td>C15S10BS</td>\n",
       "      <td>2103170</td>\n",
       "      <td>2.0</td>\n",
       "      <td>...</td>\n",
       "      <td>19-04-077</td>\n",
       "      <td>BW</td>\n",
       "      <td>2019-05-20</td>\n",
       "      <td>2.0</td>\n",
       "      <td>COK</td>\n",
       "      <td>ONENESS</td>\n",
       "      <td>2019-06-09</td>\n",
       "      <td>2.0</td>\n",
       "      <td>완료</td>\n",
       "      <td>-112 days</td>\n",
       "    </tr>\n",
       "    <tr>\n",
       "      <th>1</th>\n",
       "      <td>COK-BS-DSP-1901004</td>\n",
       "      <td>2.0</td>\n",
       "      <td>COK-F-DECK-190104-01</td>\n",
       "      <td>SPANISH BOOM VANG BLOCK (PORT 상)</td>\n",
       "      <td>BLOCK</td>\n",
       "      <td>MCKISSICK CONSTRUCTION BLOCKS (WIRE SIZE : 5/8\")</td>\n",
       "      <td>NaN</td>\n",
       "      <td>C15D10BS</td>\n",
       "      <td>2103180</td>\n",
       "      <td>1.0</td>\n",
       "      <td>...</td>\n",
       "      <td>19-04-064</td>\n",
       "      <td>BW</td>\n",
       "      <td>2019-05-20</td>\n",
       "      <td>1.0</td>\n",
       "      <td>COK</td>\n",
       "      <td>ONENESS편 탁송</td>\n",
       "      <td>2019-06-09</td>\n",
       "      <td>1.0</td>\n",
       "      <td>완료</td>\n",
       "      <td>-97 days</td>\n",
       "    </tr>\n",
       "    <tr>\n",
       "      <th>2</th>\n",
       "      <td>COK-BS-DSP-1901004</td>\n",
       "      <td>3.0</td>\n",
       "      <td>COK-F-DECK-190104-01</td>\n",
       "      <td>PURSE BLOCK</td>\n",
       "      <td>TOW BLOCK</td>\n",
       "      <td>WESTEC 20TON TOW BLOCK</td>\n",
       "      <td>NaN</td>\n",
       "      <td>WESTEC 20TON TOW BLOCK</td>\n",
       "      <td>NaN</td>\n",
       "      <td>1.0</td>\n",
       "      <td>...</td>\n",
       "      <td>19-04-077</td>\n",
       "      <td>BW</td>\n",
       "      <td>2019-05-20</td>\n",
       "      <td>1.0</td>\n",
       "      <td>COK</td>\n",
       "      <td>ONENESS</td>\n",
       "      <td>2019-06-09</td>\n",
       "      <td>1.0</td>\n",
       "      <td>완료</td>\n",
       "      <td>-112 days</td>\n",
       "    </tr>\n",
       "    <tr>\n",
       "      <th>3</th>\n",
       "      <td>COK-BS-DSP-1905036</td>\n",
       "      <td>1.0</td>\n",
       "      <td>폰페이 재고정정</td>\n",
       "      <td>MAIN ENGINE</td>\n",
       "      <td>POWER PACK AS</td>\n",
       "      <td>GE POWER PACK FORK - E7(B)</td>\n",
       "      <td>NaN</td>\n",
       "      <td>40028340</td>\n",
       "      <td>NaN</td>\n",
       "      <td>8.0</td>\n",
       "      <td>...</td>\n",
       "      <td>NaN</td>\n",
       "      <td>PN</td>\n",
       "      <td>2019-08-01</td>\n",
       "      <td>1.0</td>\n",
       "      <td>DEO</td>\n",
       "      <td>HANARO</td>\n",
       "      <td>2019-08-24</td>\n",
       "      <td>1.0</td>\n",
       "      <td>완료</td>\n",
       "      <td>0 days</td>\n",
       "    </tr>\n",
       "    <tr>\n",
       "      <th>4</th>\n",
       "      <td>COK-BS-DSP-1905036</td>\n",
       "      <td>2.0</td>\n",
       "      <td>폰페이 재고정정</td>\n",
       "      <td>MAIN ENGINE</td>\n",
       "      <td>POWER PACK AS</td>\n",
       "      <td>GE POWER PACK FORK - E7(B)</td>\n",
       "      <td>NaN</td>\n",
       "      <td>40028340</td>\n",
       "      <td>NaN</td>\n",
       "      <td>8.0</td>\n",
       "      <td>...</td>\n",
       "      <td>NaN</td>\n",
       "      <td>PN</td>\n",
       "      <td>2019-08-29</td>\n",
       "      <td>7.0</td>\n",
       "      <td>ELS</td>\n",
       "      <td>SL ARCHI</td>\n",
       "      <td>2019-09-30</td>\n",
       "      <td>7.0</td>\n",
       "      <td>완료</td>\n",
       "      <td>0 days</td>\n",
       "    </tr>\n",
       "  </tbody>\n",
       "</table>\n",
       "<p>5 rows × 34 columns</p>\n",
       "</div>"
      ],
      "text/plain": [
       "                청구서번호  No.               Subject   \n",
       "0  COK-BS-DSP-1901004  1.0  COK-F-DECK-190104-01  \\\n",
       "1  COK-BS-DSP-1901004  2.0  COK-F-DECK-190104-01   \n",
       "2  COK-BS-DSP-1901004  3.0  COK-F-DECK-190104-01   \n",
       "3  COK-BS-DSP-1905036  1.0              폰페이 재고정정   \n",
       "4  COK-BS-DSP-1905036  2.0              폰페이 재고정정   \n",
       "\n",
       "                          Machinery       Assembly   \n",
       "0    CARGO BOOM VANG BLOCK (STBD 하)          BLOCK  \\\n",
       "1  SPANISH BOOM VANG BLOCK (PORT 상)          BLOCK   \n",
       "2                       PURSE BLOCK      TOW BLOCK   \n",
       "3                       MAIN ENGINE  POWER PACK AS   \n",
       "4                       MAIN ENGINE  POWER PACK AS   \n",
       "\n",
       "                                               청구품목  Unnamed: 6   \n",
       "0  MCKISSICK CONSTRUCTION BLOCKS (WIRE SIZE : 5/8\")         NaN  \\\n",
       "1  MCKISSICK CONSTRUCTION BLOCKS (WIRE SIZE : 5/8\")         NaN   \n",
       "2                            WESTEC 20TON TOW BLOCK         NaN   \n",
       "3                        GE POWER PACK FORK - E7(B)         NaN   \n",
       "4                        GE POWER PACK FORK - E7(B)         NaN   \n",
       "\n",
       "                Part No.1 Part No.2  청구량  ... Control No.  입고창고        창고출고   \n",
       "0                C15S10BS   2103170  2.0  ...   19-04-077    BW  2019-05-20  \\\n",
       "1                C15D10BS   2103180  1.0  ...   19-04-064    BW  2019-05-20   \n",
       "2  WESTEC 20TON TOW BLOCK       NaN  1.0  ...   19-04-077    BW  2019-05-20   \n",
       "3                40028340       NaN  8.0  ...         NaN    PN  2019-08-01   \n",
       "4                40028340       NaN  8.0  ...         NaN    PN  2019-08-29   \n",
       "\n",
       "  창고출고수량  출고선박        출고운반선        선박입고 선박입고수량  완료 여부      소요시간  \n",
       "0    2.0   COK      ONENESS  2019-06-09    2.0     완료 -112 days  \n",
       "1    1.0   COK  ONENESS편 탁송  2019-06-09    1.0     완료  -97 days  \n",
       "2    1.0   COK      ONENESS  2019-06-09    1.0     완료 -112 days  \n",
       "3    1.0   DEO       HANARO  2019-08-24    1.0     완료    0 days  \n",
       "4    7.0   ELS     SL ARCHI  2019-09-30    7.0     완료    0 days  \n",
       "\n",
       "[5 rows x 34 columns]"
      ]
     },
     "execution_count": 12,
     "metadata": {},
     "output_type": "execute_result"
    }
   ],
   "source": [
    "# df['소요시간'] = df.apply(lambda x : df['발주'] - df['창고입고'])\n",
    "df['소요시간'] = df['발주'] - df['창고입고']\n",
    "df.head()"
   ]
  },
  {
   "cell_type": "code",
   "execution_count": 13,
   "id": "926d6072-dee4-4790-9579-25c34f87d312",
   "metadata": {
    "tags": []
   },
   "outputs": [
    {
     "data": {
      "text/plain": [
       "Index(['청구서번호', 'No.', 'Subject', 'Machinery', 'Assembly', '청구품목',\n",
       "       'Unnamed: 6', 'Part No.1', 'Part No.2', '청구량', '견적', 'Unnamed: 11',\n",
       "       '견적수량', '견적화폐', '견적단가', '발주번호', '발주처', '발주', '발주수량', '발주금액', 'D/T',\n",
       "       '미입고 기간', '창고입고', '창고입고수량', 'Control No.', '입고창고', '창고출고', '창고출고수량',\n",
       "       '출고선박', '출고운반선', '선박입고', '선박입고수량', '완료 여부', '소요시간'],\n",
       "      dtype='object')"
      ]
     },
     "execution_count": 13,
     "metadata": {},
     "output_type": "execute_result"
    }
   ],
   "source": [
    "df.columns"
   ]
  }
 ],
 "metadata": {
  "kernelspec": {
   "display_name": "Python 3 (ipykernel)",
   "language": "python",
   "name": "python3"
  },
  "language_info": {
   "codemirror_mode": {
    "name": "ipython",
    "version": 3
   },
   "file_extension": ".py",
   "mimetype": "text/x-python",
   "name": "python",
   "nbconvert_exporter": "python",
   "pygments_lexer": "ipython3",
   "version": "3.10.10"
  }
 },
 "nbformat": 4,
 "nbformat_minor": 5
}
